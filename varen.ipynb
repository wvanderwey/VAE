{
  "nbformat": 4,
  "nbformat_minor": 0,
  "metadata": {
    "colab": {
      "name": "varen.ipynb",
      "provenance": [],
      "collapsed_sections": [],
      "authorship_tag": "ABX9TyM6R+WP1MczD+4MJNnLl3JM"
    },
    "kernelspec": {
      "name": "python3",
      "display_name": "Python 3"
    },
    "language_info": {
      "name": "python"
    },
    "widgets": {
      "application/vnd.jupyter.widget-state+json": {
        "6e41150602c14b4bb1358b88344541c4": {
          "model_module": "@jupyter-widgets/controls",
          "model_name": "HBoxModel",
          "model_module_version": "1.5.0",
          "state": {
            "_view_name": "HBoxView",
            "_dom_classes": [],
            "_model_name": "HBoxModel",
            "_view_module": "@jupyter-widgets/controls",
            "_model_module_version": "1.5.0",
            "_view_count": null,
            "_view_module_version": "1.5.0",
            "box_style": "",
            "layout": "IPY_MODEL_f8aff7227a864ee298fe844c84f794e5",
            "_model_module": "@jupyter-widgets/controls",
            "children": [
              "IPY_MODEL_186c72ee675b446fbb72be7216fd3985",
              "IPY_MODEL_432d5cfc89e64799af3cfd4d0ab3325d",
              "IPY_MODEL_1ffa2b7f61564540b3522765780a4492"
            ]
          }
        },
        "f8aff7227a864ee298fe844c84f794e5": {
          "model_module": "@jupyter-widgets/base",
          "model_name": "LayoutModel",
          "model_module_version": "1.2.0",
          "state": {
            "_view_name": "LayoutView",
            "grid_template_rows": null,
            "right": null,
            "justify_content": null,
            "_view_module": "@jupyter-widgets/base",
            "overflow": null,
            "_model_module_version": "1.2.0",
            "_view_count": null,
            "flex_flow": null,
            "width": null,
            "min_width": null,
            "border": null,
            "align_items": null,
            "bottom": null,
            "_model_module": "@jupyter-widgets/base",
            "top": null,
            "grid_column": null,
            "overflow_y": null,
            "overflow_x": null,
            "grid_auto_flow": null,
            "grid_area": null,
            "grid_template_columns": null,
            "flex": null,
            "_model_name": "LayoutModel",
            "justify_items": null,
            "grid_row": null,
            "max_height": null,
            "align_content": null,
            "visibility": null,
            "align_self": null,
            "height": null,
            "min_height": null,
            "padding": null,
            "grid_auto_rows": null,
            "grid_gap": null,
            "max_width": null,
            "order": null,
            "_view_module_version": "1.2.0",
            "grid_template_areas": null,
            "object_position": null,
            "object_fit": null,
            "grid_auto_columns": null,
            "margin": null,
            "display": null,
            "left": null
          }
        },
        "186c72ee675b446fbb72be7216fd3985": {
          "model_module": "@jupyter-widgets/controls",
          "model_name": "HTMLModel",
          "model_module_version": "1.5.0",
          "state": {
            "_view_name": "HTMLView",
            "style": "IPY_MODEL_61c505d0b21f48069719e0fe13c2c057",
            "_dom_classes": [],
            "description": "",
            "_model_name": "HTMLModel",
            "placeholder": "​",
            "_view_module": "@jupyter-widgets/controls",
            "_model_module_version": "1.5.0",
            "value": "",
            "_view_count": null,
            "_view_module_version": "1.5.0",
            "description_tooltip": null,
            "_model_module": "@jupyter-widgets/controls",
            "layout": "IPY_MODEL_86a1fde8da44476bab2d3aca6936713b"
          }
        },
        "432d5cfc89e64799af3cfd4d0ab3325d": {
          "model_module": "@jupyter-widgets/controls",
          "model_name": "FloatProgressModel",
          "model_module_version": "1.5.0",
          "state": {
            "_view_name": "ProgressView",
            "style": "IPY_MODEL_4956cf278a794df69cbc4fc6094d6cdd",
            "_dom_classes": [],
            "description": "",
            "_model_name": "FloatProgressModel",
            "bar_style": "success",
            "max": 170498071,
            "_view_module": "@jupyter-widgets/controls",
            "_model_module_version": "1.5.0",
            "value": 170498071,
            "_view_count": null,
            "_view_module_version": "1.5.0",
            "orientation": "horizontal",
            "min": 0,
            "description_tooltip": null,
            "_model_module": "@jupyter-widgets/controls",
            "layout": "IPY_MODEL_43a9bef5aae24d13a6c136cdf20a1f5b"
          }
        },
        "1ffa2b7f61564540b3522765780a4492": {
          "model_module": "@jupyter-widgets/controls",
          "model_name": "HTMLModel",
          "model_module_version": "1.5.0",
          "state": {
            "_view_name": "HTMLView",
            "style": "IPY_MODEL_06b28338d6504121b57936d350002ebf",
            "_dom_classes": [],
            "description": "",
            "_model_name": "HTMLModel",
            "placeholder": "​",
            "_view_module": "@jupyter-widgets/controls",
            "_model_module_version": "1.5.0",
            "value": " 170499072/? [00:02&lt;00:00, 70950769.83it/s]",
            "_view_count": null,
            "_view_module_version": "1.5.0",
            "description_tooltip": null,
            "_model_module": "@jupyter-widgets/controls",
            "layout": "IPY_MODEL_2435736a453a45aab964cdd527f537ae"
          }
        },
        "61c505d0b21f48069719e0fe13c2c057": {
          "model_module": "@jupyter-widgets/controls",
          "model_name": "DescriptionStyleModel",
          "model_module_version": "1.5.0",
          "state": {
            "_view_name": "StyleView",
            "_model_name": "DescriptionStyleModel",
            "description_width": "",
            "_view_module": "@jupyter-widgets/base",
            "_model_module_version": "1.5.0",
            "_view_count": null,
            "_view_module_version": "1.2.0",
            "_model_module": "@jupyter-widgets/controls"
          }
        },
        "86a1fde8da44476bab2d3aca6936713b": {
          "model_module": "@jupyter-widgets/base",
          "model_name": "LayoutModel",
          "model_module_version": "1.2.0",
          "state": {
            "_view_name": "LayoutView",
            "grid_template_rows": null,
            "right": null,
            "justify_content": null,
            "_view_module": "@jupyter-widgets/base",
            "overflow": null,
            "_model_module_version": "1.2.0",
            "_view_count": null,
            "flex_flow": null,
            "width": null,
            "min_width": null,
            "border": null,
            "align_items": null,
            "bottom": null,
            "_model_module": "@jupyter-widgets/base",
            "top": null,
            "grid_column": null,
            "overflow_y": null,
            "overflow_x": null,
            "grid_auto_flow": null,
            "grid_area": null,
            "grid_template_columns": null,
            "flex": null,
            "_model_name": "LayoutModel",
            "justify_items": null,
            "grid_row": null,
            "max_height": null,
            "align_content": null,
            "visibility": null,
            "align_self": null,
            "height": null,
            "min_height": null,
            "padding": null,
            "grid_auto_rows": null,
            "grid_gap": null,
            "max_width": null,
            "order": null,
            "_view_module_version": "1.2.0",
            "grid_template_areas": null,
            "object_position": null,
            "object_fit": null,
            "grid_auto_columns": null,
            "margin": null,
            "display": null,
            "left": null
          }
        },
        "4956cf278a794df69cbc4fc6094d6cdd": {
          "model_module": "@jupyter-widgets/controls",
          "model_name": "ProgressStyleModel",
          "model_module_version": "1.5.0",
          "state": {
            "_view_name": "StyleView",
            "_model_name": "ProgressStyleModel",
            "description_width": "",
            "_view_module": "@jupyter-widgets/base",
            "_model_module_version": "1.5.0",
            "_view_count": null,
            "_view_module_version": "1.2.0",
            "bar_color": null,
            "_model_module": "@jupyter-widgets/controls"
          }
        },
        "43a9bef5aae24d13a6c136cdf20a1f5b": {
          "model_module": "@jupyter-widgets/base",
          "model_name": "LayoutModel",
          "model_module_version": "1.2.0",
          "state": {
            "_view_name": "LayoutView",
            "grid_template_rows": null,
            "right": null,
            "justify_content": null,
            "_view_module": "@jupyter-widgets/base",
            "overflow": null,
            "_model_module_version": "1.2.0",
            "_view_count": null,
            "flex_flow": null,
            "width": null,
            "min_width": null,
            "border": null,
            "align_items": null,
            "bottom": null,
            "_model_module": "@jupyter-widgets/base",
            "top": null,
            "grid_column": null,
            "overflow_y": null,
            "overflow_x": null,
            "grid_auto_flow": null,
            "grid_area": null,
            "grid_template_columns": null,
            "flex": null,
            "_model_name": "LayoutModel",
            "justify_items": null,
            "grid_row": null,
            "max_height": null,
            "align_content": null,
            "visibility": null,
            "align_self": null,
            "height": null,
            "min_height": null,
            "padding": null,
            "grid_auto_rows": null,
            "grid_gap": null,
            "max_width": null,
            "order": null,
            "_view_module_version": "1.2.0",
            "grid_template_areas": null,
            "object_position": null,
            "object_fit": null,
            "grid_auto_columns": null,
            "margin": null,
            "display": null,
            "left": null
          }
        },
        "06b28338d6504121b57936d350002ebf": {
          "model_module": "@jupyter-widgets/controls",
          "model_name": "DescriptionStyleModel",
          "model_module_version": "1.5.0",
          "state": {
            "_view_name": "StyleView",
            "_model_name": "DescriptionStyleModel",
            "description_width": "",
            "_view_module": "@jupyter-widgets/base",
            "_model_module_version": "1.5.0",
            "_view_count": null,
            "_view_module_version": "1.2.0",
            "_model_module": "@jupyter-widgets/controls"
          }
        },
        "2435736a453a45aab964cdd527f537ae": {
          "model_module": "@jupyter-widgets/base",
          "model_name": "LayoutModel",
          "model_module_version": "1.2.0",
          "state": {
            "_view_name": "LayoutView",
            "grid_template_rows": null,
            "right": null,
            "justify_content": null,
            "_view_module": "@jupyter-widgets/base",
            "overflow": null,
            "_model_module_version": "1.2.0",
            "_view_count": null,
            "flex_flow": null,
            "width": null,
            "min_width": null,
            "border": null,
            "align_items": null,
            "bottom": null,
            "_model_module": "@jupyter-widgets/base",
            "top": null,
            "grid_column": null,
            "overflow_y": null,
            "overflow_x": null,
            "grid_auto_flow": null,
            "grid_area": null,
            "grid_template_columns": null,
            "flex": null,
            "_model_name": "LayoutModel",
            "justify_items": null,
            "grid_row": null,
            "max_height": null,
            "align_content": null,
            "visibility": null,
            "align_self": null,
            "height": null,
            "min_height": null,
            "padding": null,
            "grid_auto_rows": null,
            "grid_gap": null,
            "max_width": null,
            "order": null,
            "_view_module_version": "1.2.0",
            "grid_template_areas": null,
            "object_position": null,
            "object_fit": null,
            "grid_auto_columns": null,
            "margin": null,
            "display": null,
            "left": null
          }
        }
      }
    },
    "accelerator": "GPU"
  },
  "cells": [
    {
      "cell_type": "code",
      "metadata": {
        "id": "xitFyI4pZAn9"
      },
      "source": [
        "import torch\n",
        "from torch import nn\n",
        "from torch.utils.data import DataLoader\n",
        "from torchvision import datasets\n",
        "from torchvision.transforms import ToTensor\n",
        "from torch.nn import functional as F\n",
        "\n",
        "import sys\n",
        "import numpy as np\n",
        "import matplotlib.pyplot as plt\n",
        "\n",
        "%matplotlib inline"
      ],
      "execution_count": null,
      "outputs": []
    },
    {
      "cell_type": "code",
      "metadata": {
        "colab": {
          "base_uri": "https://localhost:8080/"
        },
        "id": "viHRGrDcZQxt",
        "outputId": "819fd73a-6a92-4ada-db8f-fd2514ed38e3"
      },
      "source": [
        "# get gpu device if available\n",
        "device = \"cuda\" if torch.cuda.is_available() else \"cpu\"\n",
        "print(f\"Using {device}\")"
      ],
      "execution_count": null,
      "outputs": [
        {
          "output_type": "stream",
          "name": "stdout",
          "text": [
            "Using cuda\n"
          ]
        }
      ]
    },
    {
      "cell_type": "code",
      "metadata": {
        "colab": {
          "base_uri": "https://localhost:8080/",
          "height": 101,
          "referenced_widgets": [
            "6e41150602c14b4bb1358b88344541c4",
            "f8aff7227a864ee298fe844c84f794e5",
            "186c72ee675b446fbb72be7216fd3985",
            "432d5cfc89e64799af3cfd4d0ab3325d",
            "1ffa2b7f61564540b3522765780a4492",
            "61c505d0b21f48069719e0fe13c2c057",
            "86a1fde8da44476bab2d3aca6936713b",
            "4956cf278a794df69cbc4fc6094d6cdd",
            "43a9bef5aae24d13a6c136cdf20a1f5b",
            "06b28338d6504121b57936d350002ebf",
            "2435736a453a45aab964cdd527f537ae"
          ]
        },
        "id": "f3051X9rZUrQ",
        "outputId": "2611e446-3a8e-436c-c305-7749cd9a3a63"
      },
      "source": [
        "# download CIFAR training data \n",
        "train_data = datasets.CIFAR10(\n",
        "    root=\"data\",\n",
        "    train=True,\n",
        "    download=True,\n",
        "    transform=ToTensor()\n",
        ")\n",
        "\n",
        "# download CIFAR test data\n",
        "test_data = datasets.CIFAR10(\n",
        "    root=\"data\",\n",
        "    train=False,\n",
        "    download=True,\n",
        "    transform=ToTensor()\n",
        ") "
      ],
      "execution_count": null,
      "outputs": [
        {
          "output_type": "stream",
          "name": "stdout",
          "text": [
            "Downloading https://www.cs.toronto.edu/~kriz/cifar-10-python.tar.gz to data/cifar-10-python.tar.gz\n"
          ]
        },
        {
          "output_type": "display_data",
          "data": {
            "application/vnd.jupyter.widget-view+json": {
              "model_id": "6e41150602c14b4bb1358b88344541c4",
              "version_minor": 0,
              "version_major": 2
            },
            "text/plain": [
              "  0%|          | 0/170498071 [00:00<?, ?it/s]"
            ]
          },
          "metadata": {}
        },
        {
          "output_type": "stream",
          "name": "stdout",
          "text": [
            "Extracting data/cifar-10-python.tar.gz to data\n",
            "Files already downloaded and verified\n"
          ]
        }
      ]
    },
    {
      "cell_type": "code",
      "metadata": {
        "id": "LoEID05YZXIt"
      },
      "source": [
        "batch_size = 64\n",
        "\n",
        "# create respective dataloaders from datasets\n",
        "train_dataloader = DataLoader(train_data, batch_size=batch_size, shuffle=True)\n",
        "val_dataloader = DataLoader(test_data, batch_size=batch_size, shuffle=True)"
      ],
      "execution_count": null,
      "outputs": []
    },
    {
      "cell_type": "code",
      "metadata": {
        "id": "hBT7eP_Rbfd3"
      },
      "source": [
        "class Vae(nn.Module):\n",
        "  def __init__(self, n_latent):\n",
        "    super(Vae, self).__init__()\n",
        "    self.flatten = nn.Flatten()\n",
        "    self.encoder = nn.Sequential(\n",
        "        nn.Linear(32*32*3, 512),\n",
        "        nn.ReLU(),\n",
        "        nn.Linear(512, 512),\n",
        "        nn.ReLU(),\n",
        "        nn.Linear(512, n_latent),\n",
        "        nn.ReLU()\n",
        "    )\n",
        "    self.decoder = nn.Sequential(\n",
        "        nn.Linear(n_latent, 512),\n",
        "        nn.ReLU(),\n",
        "        nn.Linear(512, 512),\n",
        "        nn.ReLU(),\n",
        "        nn.Linear(512, 32*32*3),\n",
        "        nn.Sigmoid()\n",
        "    )\n",
        "\n",
        "  def forward(self, image):\n",
        "    image = self.flatten(image)\n",
        "    z = self.encoder(image)\n",
        "    recon_image = self.decoder(z)\n",
        "\n",
        "    return recon_image"
      ],
      "execution_count": null,
      "outputs": []
    },
    {
      "cell_type": "code",
      "metadata": {
        "id": "X42zq3s_uKHY"
      },
      "source": [
        "class SparseVae(nn.Module):\n",
        "  def __init__(self, n_latent):\n",
        "    super(SparseVae, self).__init__()\n",
        "    self.flatten = nn.Flatten()\n",
        "    self.enc1 = nn.Linear(32*32*3, 512)\n",
        "    self.enc2 = nn.Linear(512, 512)\n",
        "    self.enc3 = nn.Linear(512, n_latent)\n",
        "    self.dec1 = nn.Linear(n_latent, 512)\n",
        "    self.dec2 = nn.Linear(512, 512)\n",
        "    self.dec3 = nn.Linear(512, 32*32*3)\n",
        "\n",
        "\n",
        "  def forward(self, image):\n",
        "    input = self.flatten(image)\n",
        "\n",
        "    # loop through all fully connected layers of network and apply relu\n",
        "    outputs = []\n",
        "    for layer in self.children():\n",
        "      if isinstance(layer, nn.Linear) and layer != self.dec3:\n",
        "        outputs.append(F.relu(layer(input)))\n",
        "        input = outputs[-1]\n",
        "    \n",
        "    # sigmoid non linearity for last layer\n",
        "    outputs.append(torch.sigmoid(self.dec3(input)))\n",
        "\n",
        "    return outputs\n"
      ],
      "execution_count": null,
      "outputs": []
    },
    {
      "cell_type": "code",
      "metadata": {
        "colab": {
          "base_uri": "https://localhost:8080/"
        },
        "id": "EtnfrTQl_foy",
        "outputId": "3e3b86aa-f8d9-4038-803e-9290ced06b71"
      },
      "source": [
        "!pip install torchviz"
      ],
      "execution_count": null,
      "outputs": [
        {
          "output_type": "stream",
          "name": "stdout",
          "text": [
            "Collecting torchviz\n",
            "  Downloading torchviz-0.0.2.tar.gz (4.9 kB)\n",
            "Requirement already satisfied: torch in /usr/local/lib/python3.7/dist-packages (from torchviz) (1.9.0+cu102)\n",
            "Requirement already satisfied: graphviz in /usr/local/lib/python3.7/dist-packages (from torchviz) (0.10.1)\n",
            "Requirement already satisfied: typing-extensions in /usr/local/lib/python3.7/dist-packages (from torch->torchviz) (3.7.4.3)\n",
            "Building wheels for collected packages: torchviz\n",
            "  Building wheel for torchviz (setup.py) ... \u001b[?25l\u001b[?25hdone\n",
            "  Created wheel for torchviz: filename=torchviz-0.0.2-py3-none-any.whl size=4151 sha256=396aa02b0492d7ed99b418d3ff15584e6dec9b46df9ef6c58dccdaff53d36673\n",
            "  Stored in directory: /root/.cache/pip/wheels/04/38/f5/dc4f85c3909051823df49901e72015d2d750bd26b086480ec2\n",
            "Successfully built torchviz\n",
            "Installing collected packages: torchviz\n",
            "Successfully installed torchviz-0.0.2\n"
          ]
        }
      ]
    },
    {
      "cell_type": "code",
      "metadata": {
        "colab": {
          "base_uri": "https://localhost:8080/",
          "height": 1000
        },
        "id": "kSE07Lc2_HrM",
        "outputId": "bff66ff8-8eaf-4b45-8385-456448dd8dc2"
      },
      "source": [
        "x = train_data[0][0].unsqueeze(0).to(device)\n",
        "m = SparseVae(256).to(device)\n",
        "outputs = m(x)\n",
        "\n",
        "from torchviz import make_dot\n",
        "make_dot(outputs[-1], dict(list(m.named_parameters())))"
      ],
      "execution_count": null,
      "outputs": [
        {
          "output_type": "stream",
          "name": "stderr",
          "text": [
            "/usr/local/lib/python3.7/dist-packages/torch/nn/functional.py:1805: UserWarning: nn.functional.sigmoid is deprecated. Use torch.sigmoid instead.\n",
            "  warnings.warn(\"nn.functional.sigmoid is deprecated. Use torch.sigmoid instead.\")\n"
          ]
        },
        {
          "output_type": "execute_result",
          "data": {
            "text/plain": [
              "<graphviz.dot.Digraph at 0x7efd73bfe490>"
            ],
            "image/svg+xml": "<?xml version=\"1.0\" encoding=\"UTF-8\" standalone=\"no\"?>\n<!DOCTYPE svg PUBLIC \"-//W3C//DTD SVG 1.1//EN\"\n \"http://www.w3.org/Graphics/SVG/1.1/DTD/svg11.dtd\">\n<!-- Generated by graphviz version 2.40.1 (20161225.0304)\n -->\n<!-- Title: %3 Pages: 1 -->\n<svg width=\"463pt\" height=\"918pt\"\n viewBox=\"0.00 0.00 462.69 918.00\" xmlns=\"http://www.w3.org/2000/svg\" xmlns:xlink=\"http://www.w3.org/1999/xlink\">\n<g id=\"graph0\" class=\"graph\" transform=\"scale(.9217 .9217) rotate(0) translate(4 992)\">\n<title>%3</title>\n<polygon fill=\"#ffffff\" stroke=\"transparent\" points=\"-4,4 -4,-992 498,-992 498,4 -4,4\"/>\n<!-- 139623732812288 -->\n<g id=\"node1\" class=\"node\">\n<title>139623732812288</title>\n<polygon fill=\"#caff70\" stroke=\"#000000\" points=\"318,-31 241,-31 241,0 318,0 318,-31\"/>\n<text text-anchor=\"middle\" x=\"279.5\" y=\"-7\" font-family=\"monospace\" font-size=\"10.00\" fill=\"#000000\"> (1, 3072)</text>\n</g>\n<!-- 139627033783440 -->\n<g id=\"node2\" class=\"node\">\n<title>139627033783440</title>\n<polygon fill=\"#d3d3d3\" stroke=\"#000000\" points=\"333,-86 226,-86 226,-67 333,-67 333,-86\"/>\n<text text-anchor=\"middle\" x=\"279.5\" y=\"-74\" font-family=\"monospace\" font-size=\"10.00\" fill=\"#000000\">SigmoidBackward</text>\n</g>\n<!-- 139627033783440&#45;&gt;139623732812288 -->\n<g id=\"edge42\" class=\"edge\">\n<title>139627033783440&#45;&gt;139623732812288</title>\n<path fill=\"none\" stroke=\"#000000\" d=\"M279.5,-66.9688C279.5,-60.1289 279.5,-50.5621 279.5,-41.5298\"/>\n<polygon fill=\"#000000\" stroke=\"#000000\" points=\"283.0001,-41.3678 279.5,-31.3678 276.0001,-41.3678 283.0001,-41.3678\"/>\n</g>\n<!-- 139627033782928 -->\n<g id=\"node3\" class=\"node\">\n<title>139627033782928</title>\n<polygon fill=\"#d3d3d3\" stroke=\"#000000\" points=\"327,-141 232,-141 232,-122 327,-122 327,-141\"/>\n<text text-anchor=\"middle\" x=\"279.5\" y=\"-129\" font-family=\"monospace\" font-size=\"10.00\" fill=\"#000000\">AddmmBackward</text>\n</g>\n<!-- 139627033782928&#45;&gt;139627033783440 -->\n<g id=\"edge1\" class=\"edge\">\n<title>139627033782928&#45;&gt;139627033783440</title>\n<path fill=\"none\" stroke=\"#000000\" d=\"M279.5,-121.9197C279.5,-114.9083 279.5,-105.1442 279.5,-96.4652\"/>\n<polygon fill=\"#000000\" stroke=\"#000000\" points=\"283.0001,-96.3408 279.5,-86.3408 276.0001,-96.3409 283.0001,-96.3408\"/>\n</g>\n<!-- 139627033780880 -->\n<g id=\"node4\" class=\"node\">\n<title>139627033780880</title>\n<polygon fill=\"#d3d3d3\" stroke=\"#000000\" points=\"214,-196 113,-196 113,-177 214,-177 214,-196\"/>\n<text text-anchor=\"middle\" x=\"163.5\" y=\"-184\" font-family=\"monospace\" font-size=\"10.00\" fill=\"#000000\">AccumulateGrad</text>\n</g>\n<!-- 139627033780880&#45;&gt;139627033782928 -->\n<g id=\"edge2\" class=\"edge\">\n<title>139627033780880&#45;&gt;139627033782928</title>\n<path fill=\"none\" stroke=\"#000000\" d=\"M183.7057,-176.9197C201.9737,-168.2581 229.1018,-155.3957 249.8304,-145.5675\"/>\n<polygon fill=\"#000000\" stroke=\"#000000\" points=\"251.6004,-148.6018 259.1367,-141.155 248.6014,-142.2768 251.6004,-148.6018\"/>\n</g>\n<!-- 139623733032112 -->\n<g id=\"node5\" class=\"node\">\n<title>139623733032112</title>\n<polygon fill=\"#add8e6\" stroke=\"#000000\" points=\"199,-262 128,-262 128,-232 199,-232 199,-262\"/>\n<text text-anchor=\"middle\" x=\"163.5\" y=\"-250\" font-family=\"monospace\" font-size=\"10.00\" fill=\"#000000\">dec3.bias</text>\n<text text-anchor=\"middle\" x=\"163.5\" y=\"-239\" font-family=\"monospace\" font-size=\"10.00\" fill=\"#000000\"> (3072)</text>\n</g>\n<!-- 139623733032112&#45;&gt;139627033780880 -->\n<g id=\"edge3\" class=\"edge\">\n<title>139623733032112&#45;&gt;139627033780880</title>\n<path fill=\"none\" stroke=\"#000000\" d=\"M163.5,-231.7333C163.5,-224.0322 163.5,-214.5977 163.5,-206.3414\"/>\n<polygon fill=\"#000000\" stroke=\"#000000\" points=\"167.0001,-206.0864 163.5,-196.0864 160.0001,-206.0864 167.0001,-206.0864\"/>\n</g>\n<!-- 139627033782416 -->\n<g id=\"node6\" class=\"node\">\n<title>139627033782416</title>\n<polygon fill=\"#d3d3d3\" stroke=\"#000000\" points=\"327,-196 232,-196 232,-177 327,-177 327,-196\"/>\n<text text-anchor=\"middle\" x=\"279.5\" y=\"-184\" font-family=\"monospace\" font-size=\"10.00\" fill=\"#000000\">ReluBackward0</text>\n</g>\n<!-- 139627033782416&#45;&gt;139627033782928 -->\n<g id=\"edge4\" class=\"edge\">\n<title>139627033782416&#45;&gt;139627033782928</title>\n<path fill=\"none\" stroke=\"#000000\" d=\"M279.5,-176.9197C279.5,-169.9083 279.5,-160.1442 279.5,-151.4652\"/>\n<polygon fill=\"#000000\" stroke=\"#000000\" points=\"283.0001,-151.3408 279.5,-141.3408 276.0001,-151.3409 283.0001,-151.3408\"/>\n</g>\n<!-- 139627033783184 -->\n<g id=\"node7\" class=\"node\">\n<title>139627033783184</title>\n<polygon fill=\"#d3d3d3\" stroke=\"#000000\" points=\"319,-256.5 224,-256.5 224,-237.5 319,-237.5 319,-256.5\"/>\n<text text-anchor=\"middle\" x=\"271.5\" y=\"-244.5\" font-family=\"monospace\" font-size=\"10.00\" fill=\"#000000\">AddmmBackward</text>\n</g>\n<!-- 139627033783184&#45;&gt;139627033782416 -->\n<g id=\"edge5\" class=\"edge\">\n<title>139627033783184&#45;&gt;139627033782416</title>\n<path fill=\"none\" stroke=\"#000000\" d=\"M272.7853,-237.2796C273.8752,-229.0376 275.4741,-216.9457 276.8383,-206.629\"/>\n<polygon fill=\"#000000\" stroke=\"#000000\" points=\"280.3501,-206.7698 278.1913,-196.3972 273.4105,-205.8521 280.3501,-206.7698\"/>\n</g>\n<!-- 139627033781648 -->\n<g id=\"node8\" class=\"node\">\n<title>139627033781648</title>\n<polygon fill=\"#d3d3d3\" stroke=\"#000000\" points=\"185,-322.5 84,-322.5 84,-303.5 185,-303.5 185,-322.5\"/>\n<text text-anchor=\"middle\" x=\"134.5\" y=\"-310.5\" font-family=\"monospace\" font-size=\"10.00\" fill=\"#000000\">AccumulateGrad</text>\n</g>\n<!-- 139627033781648&#45;&gt;139627033783184 -->\n<g id=\"edge6\" class=\"edge\">\n<title>139627033781648&#45;&gt;139627033783184</title>\n<path fill=\"none\" stroke=\"#000000\" d=\"M154.421,-303.403C177.5543,-292.2585 215.9168,-273.7773 242.3899,-261.0238\"/>\n<polygon fill=\"#000000\" stroke=\"#000000\" points=\"244.065,-264.1019 251.555,-256.6085 241.0268,-257.7956 244.065,-264.1019\"/>\n</g>\n<!-- 139623732766352 -->\n<g id=\"node9\" class=\"node\">\n<title>139623732766352</title>\n<polygon fill=\"#add8e6\" stroke=\"#000000\" points=\"170,-394 99,-394 99,-364 170,-364 170,-394\"/>\n<text text-anchor=\"middle\" x=\"134.5\" y=\"-382\" font-family=\"monospace\" font-size=\"10.00\" fill=\"#000000\">dec2.bias</text>\n<text text-anchor=\"middle\" x=\"134.5\" y=\"-371\" font-family=\"monospace\" font-size=\"10.00\" fill=\"#000000\"> (512)</text>\n</g>\n<!-- 139623732766352&#45;&gt;139627033781648 -->\n<g id=\"edge7\" class=\"edge\">\n<title>139623732766352&#45;&gt;139627033781648</title>\n<path fill=\"none\" stroke=\"#000000\" d=\"M134.5,-363.6924C134.5,-354.5067 134.5,-342.7245 134.5,-332.8312\"/>\n<polygon fill=\"#000000\" stroke=\"#000000\" points=\"138.0001,-332.703 134.5,-322.7031 131.0001,-332.7031 138.0001,-332.703\"/>\n</g>\n<!-- 139627033782992 -->\n<g id=\"node10\" class=\"node\">\n<title>139627033782992</title>\n<polygon fill=\"#d3d3d3\" stroke=\"#000000\" points=\"298,-322.5 203,-322.5 203,-303.5 298,-303.5 298,-322.5\"/>\n<text text-anchor=\"middle\" x=\"250.5\" y=\"-310.5\" font-family=\"monospace\" font-size=\"10.00\" fill=\"#000000\">ReluBackward0</text>\n</g>\n<!-- 139627033782992&#45;&gt;139627033783184 -->\n<g id=\"edge8\" class=\"edge\">\n<title>139627033782992&#45;&gt;139627033783184</title>\n<path fill=\"none\" stroke=\"#000000\" d=\"M253.5986,-303.2615C256.6695,-293.6102 261.4588,-278.558 265.3112,-266.4506\"/>\n<polygon fill=\"#000000\" stroke=\"#000000\" points=\"268.6918,-267.369 268.3887,-256.7785 262.0213,-265.2465 268.6918,-267.369\"/>\n</g>\n<!-- 139627033783696 -->\n<g id=\"node11\" class=\"node\">\n<title>139627033783696</title>\n<polygon fill=\"#d3d3d3\" stroke=\"#000000\" points=\"290,-388.5 195,-388.5 195,-369.5 290,-369.5 290,-388.5\"/>\n<text text-anchor=\"middle\" x=\"242.5\" y=\"-376.5\" font-family=\"monospace\" font-size=\"10.00\" fill=\"#000000\">AddmmBackward</text>\n</g>\n<!-- 139627033783696&#45;&gt;139627033782992 -->\n<g id=\"edge9\" class=\"edge\">\n<title>139627033783696&#45;&gt;139627033782992</title>\n<path fill=\"none\" stroke=\"#000000\" d=\"M243.6804,-369.2615C244.8385,-359.7077 246.638,-344.8615 248.0978,-332.8183\"/>\n<polygon fill=\"#000000\" stroke=\"#000000\" points=\"251.5859,-333.127 249.3147,-322.7785 244.6368,-332.2846 251.5859,-333.127\"/>\n</g>\n<!-- 139627033782736 -->\n<g id=\"node12\" class=\"node\">\n<title>139627033782736</title>\n<polygon fill=\"#d3d3d3\" stroke=\"#000000\" points=\"157,-454.5 56,-454.5 56,-435.5 157,-435.5 157,-454.5\"/>\n<text text-anchor=\"middle\" x=\"106.5\" y=\"-442.5\" font-family=\"monospace\" font-size=\"10.00\" fill=\"#000000\">AccumulateGrad</text>\n</g>\n<!-- 139627033782736&#45;&gt;139627033783696 -->\n<g id=\"edge10\" class=\"edge\">\n<title>139627033782736&#45;&gt;139627033783696</title>\n<path fill=\"none\" stroke=\"#000000\" d=\"M126.2756,-435.403C149.24,-424.2585 187.3225,-405.7773 213.6024,-393.0238\"/>\n<polygon fill=\"#000000\" stroke=\"#000000\" points=\"215.2321,-396.1234 222.7006,-388.6085 212.1759,-389.8258 215.2321,-396.1234\"/>\n</g>\n<!-- 139624722994752 -->\n<g id=\"node13\" class=\"node\">\n<title>139624722994752</title>\n<polygon fill=\"#add8e6\" stroke=\"#000000\" points=\"142,-526 71,-526 71,-496 142,-496 142,-526\"/>\n<text text-anchor=\"middle\" x=\"106.5\" y=\"-514\" font-family=\"monospace\" font-size=\"10.00\" fill=\"#000000\">dec1.bias</text>\n<text text-anchor=\"middle\" x=\"106.5\" y=\"-503\" font-family=\"monospace\" font-size=\"10.00\" fill=\"#000000\"> (512)</text>\n</g>\n<!-- 139624722994752&#45;&gt;139627033782736 -->\n<g id=\"edge11\" class=\"edge\">\n<title>139624722994752&#45;&gt;139627033782736</title>\n<path fill=\"none\" stroke=\"#000000\" d=\"M106.5,-495.6924C106.5,-486.5067 106.5,-474.7245 106.5,-464.8312\"/>\n<polygon fill=\"#000000\" stroke=\"#000000\" points=\"110.0001,-464.703 106.5,-454.7031 103.0001,-464.7031 110.0001,-464.703\"/>\n</g>\n<!-- 139627033781968 -->\n<g id=\"node14\" class=\"node\">\n<title>139627033781968</title>\n<polygon fill=\"#d3d3d3\" stroke=\"#000000\" points=\"270,-454.5 175,-454.5 175,-435.5 270,-435.5 270,-454.5\"/>\n<text text-anchor=\"middle\" x=\"222.5\" y=\"-442.5\" font-family=\"monospace\" font-size=\"10.00\" fill=\"#000000\">ReluBackward0</text>\n</g>\n<!-- 139627033781968&#45;&gt;139627033783696 -->\n<g id=\"edge12\" class=\"edge\">\n<title>139627033781968&#45;&gt;139627033783696</title>\n<path fill=\"none\" stroke=\"#000000\" d=\"M225.4511,-435.2615C228.3757,-425.6102 232.937,-410.558 236.6059,-398.4506\"/>\n<polygon fill=\"#000000\" stroke=\"#000000\" points=\"239.9863,-399.3638 239.5368,-388.7785 233.2871,-397.3337 239.9863,-399.3638\"/>\n</g>\n<!-- 139627033781712 -->\n<g id=\"node15\" class=\"node\">\n<title>139627033781712</title>\n<polygon fill=\"#d3d3d3\" stroke=\"#000000\" points=\"262,-520.5 167,-520.5 167,-501.5 262,-501.5 262,-520.5\"/>\n<text text-anchor=\"middle\" x=\"214.5\" y=\"-508.5\" font-family=\"monospace\" font-size=\"10.00\" fill=\"#000000\">AddmmBackward</text>\n</g>\n<!-- 139627033781712&#45;&gt;139627033781968 -->\n<g id=\"edge13\" class=\"edge\">\n<title>139627033781712&#45;&gt;139627033781968</title>\n<path fill=\"none\" stroke=\"#000000\" d=\"M215.6804,-501.2615C216.8385,-491.7077 218.638,-476.8615 220.0978,-464.8183\"/>\n<polygon fill=\"#000000\" stroke=\"#000000\" points=\"223.5859,-465.127 221.3147,-454.7785 216.6368,-464.2846 223.5859,-465.127\"/>\n</g>\n<!-- 139627033780944 -->\n<g id=\"node16\" class=\"node\">\n<title>139627033780944</title>\n<polygon fill=\"#d3d3d3\" stroke=\"#000000\" points=\"129,-586.5 28,-586.5 28,-567.5 129,-567.5 129,-586.5\"/>\n<text text-anchor=\"middle\" x=\"78.5\" y=\"-574.5\" font-family=\"monospace\" font-size=\"10.00\" fill=\"#000000\">AccumulateGrad</text>\n</g>\n<!-- 139627033780944&#45;&gt;139627033781712 -->\n<g id=\"edge14\" class=\"edge\">\n<title>139627033780944&#45;&gt;139627033781712</title>\n<path fill=\"none\" stroke=\"#000000\" d=\"M98.2756,-567.403C121.24,-556.2585 159.3225,-537.7773 185.6024,-525.0238\"/>\n<polygon fill=\"#000000\" stroke=\"#000000\" points=\"187.2321,-528.1234 194.7006,-520.6085 184.1759,-521.8258 187.2321,-528.1234\"/>\n</g>\n<!-- 139623733048896 -->\n<g id=\"node17\" class=\"node\">\n<title>139623733048896</title>\n<polygon fill=\"#add8e6\" stroke=\"#000000\" points=\"114,-658 43,-658 43,-628 114,-628 114,-658\"/>\n<text text-anchor=\"middle\" x=\"78.5\" y=\"-646\" font-family=\"monospace\" font-size=\"10.00\" fill=\"#000000\">enc3.bias</text>\n<text text-anchor=\"middle\" x=\"78.5\" y=\"-635\" font-family=\"monospace\" font-size=\"10.00\" fill=\"#000000\"> (256)</text>\n</g>\n<!-- 139623733048896&#45;&gt;139627033780944 -->\n<g id=\"edge15\" class=\"edge\">\n<title>139623733048896&#45;&gt;139627033780944</title>\n<path fill=\"none\" stroke=\"#000000\" d=\"M78.5,-627.6924C78.5,-618.5067 78.5,-606.7245 78.5,-596.8312\"/>\n<polygon fill=\"#000000\" stroke=\"#000000\" points=\"82.0001,-596.703 78.5,-586.7031 75.0001,-596.7031 82.0001,-596.703\"/>\n</g>\n<!-- 139627033784080 -->\n<g id=\"node18\" class=\"node\">\n<title>139627033784080</title>\n<polygon fill=\"#d3d3d3\" stroke=\"#000000\" points=\"242,-586.5 147,-586.5 147,-567.5 242,-567.5 242,-586.5\"/>\n<text text-anchor=\"middle\" x=\"194.5\" y=\"-574.5\" font-family=\"monospace\" font-size=\"10.00\" fill=\"#000000\">ReluBackward0</text>\n</g>\n<!-- 139627033784080&#45;&gt;139627033781712 -->\n<g id=\"edge16\" class=\"edge\">\n<title>139627033784080&#45;&gt;139627033781712</title>\n<path fill=\"none\" stroke=\"#000000\" d=\"M197.4511,-567.2615C200.3757,-557.6102 204.937,-542.558 208.6059,-530.4506\"/>\n<polygon fill=\"#000000\" stroke=\"#000000\" points=\"211.9863,-531.3638 211.5368,-520.7785 205.2871,-529.3337 211.9863,-531.3638\"/>\n</g>\n<!-- 139627033781264 -->\n<g id=\"node19\" class=\"node\">\n<title>139627033781264</title>\n<polygon fill=\"#d3d3d3\" stroke=\"#000000\" points=\"234,-652.5 139,-652.5 139,-633.5 234,-633.5 234,-652.5\"/>\n<text text-anchor=\"middle\" x=\"186.5\" y=\"-640.5\" font-family=\"monospace\" font-size=\"10.00\" fill=\"#000000\">AddmmBackward</text>\n</g>\n<!-- 139627033781264&#45;&gt;139627033784080 -->\n<g id=\"edge17\" class=\"edge\">\n<title>139627033781264&#45;&gt;139627033784080</title>\n<path fill=\"none\" stroke=\"#000000\" d=\"M187.6804,-633.2615C188.8385,-623.7077 190.638,-608.8615 192.0978,-596.8183\"/>\n<polygon fill=\"#000000\" stroke=\"#000000\" points=\"195.5859,-597.127 193.3147,-586.7785 188.6368,-596.2846 195.5859,-597.127\"/>\n</g>\n<!-- 139627033783504 -->\n<g id=\"node20\" class=\"node\">\n<title>139627033783504</title>\n<polygon fill=\"#d3d3d3\" stroke=\"#000000\" points=\"101,-718.5 0,-718.5 0,-699.5 101,-699.5 101,-718.5\"/>\n<text text-anchor=\"middle\" x=\"50.5\" y=\"-706.5\" font-family=\"monospace\" font-size=\"10.00\" fill=\"#000000\">AccumulateGrad</text>\n</g>\n<!-- 139627033783504&#45;&gt;139627033781264 -->\n<g id=\"edge18\" class=\"edge\">\n<title>139627033783504&#45;&gt;139627033781264</title>\n<path fill=\"none\" stroke=\"#000000\" d=\"M70.2756,-699.403C93.24,-688.2585 131.3225,-669.7773 157.6024,-657.0238\"/>\n<polygon fill=\"#000000\" stroke=\"#000000\" points=\"159.2321,-660.1234 166.7006,-652.6085 156.1759,-653.8258 159.2321,-660.1234\"/>\n</g>\n<!-- 139623733047696 -->\n<g id=\"node21\" class=\"node\">\n<title>139623733047696</title>\n<polygon fill=\"#add8e6\" stroke=\"#000000\" points=\"86,-790 15,-790 15,-760 86,-760 86,-790\"/>\n<text text-anchor=\"middle\" x=\"50.5\" y=\"-778\" font-family=\"monospace\" font-size=\"10.00\" fill=\"#000000\">enc2.bias</text>\n<text text-anchor=\"middle\" x=\"50.5\" y=\"-767\" font-family=\"monospace\" font-size=\"10.00\" fill=\"#000000\"> (512)</text>\n</g>\n<!-- 139623733047696&#45;&gt;139627033783504 -->\n<g id=\"edge19\" class=\"edge\">\n<title>139623733047696&#45;&gt;139627033783504</title>\n<path fill=\"none\" stroke=\"#000000\" d=\"M50.5,-759.6924C50.5,-750.5067 50.5,-738.7245 50.5,-728.8312\"/>\n<polygon fill=\"#000000\" stroke=\"#000000\" points=\"54.0001,-728.703 50.5,-718.7031 47.0001,-728.7031 54.0001,-728.703\"/>\n</g>\n<!-- 139627033783248 -->\n<g id=\"node22\" class=\"node\">\n<title>139627033783248</title>\n<polygon fill=\"#d3d3d3\" stroke=\"#000000\" points=\"214,-718.5 119,-718.5 119,-699.5 214,-699.5 214,-718.5\"/>\n<text text-anchor=\"middle\" x=\"166.5\" y=\"-706.5\" font-family=\"monospace\" font-size=\"10.00\" fill=\"#000000\">ReluBackward0</text>\n</g>\n<!-- 139627033783248&#45;&gt;139627033781264 -->\n<g id=\"edge20\" class=\"edge\">\n<title>139627033783248&#45;&gt;139627033781264</title>\n<path fill=\"none\" stroke=\"#000000\" d=\"M169.4511,-699.2615C172.3757,-689.6102 176.937,-674.558 180.6059,-662.4506\"/>\n<polygon fill=\"#000000\" stroke=\"#000000\" points=\"183.9863,-663.3638 183.5368,-652.7785 177.2871,-661.3337 183.9863,-663.3638\"/>\n</g>\n<!-- 139627033781008 -->\n<g id=\"node23\" class=\"node\">\n<title>139627033781008</title>\n<polygon fill=\"#d3d3d3\" stroke=\"#000000\" points=\"206,-784.5 111,-784.5 111,-765.5 206,-765.5 206,-784.5\"/>\n<text text-anchor=\"middle\" x=\"158.5\" y=\"-772.5\" font-family=\"monospace\" font-size=\"10.00\" fill=\"#000000\">AddmmBackward</text>\n</g>\n<!-- 139627033781008&#45;&gt;139627033783248 -->\n<g id=\"edge21\" class=\"edge\">\n<title>139627033781008&#45;&gt;139627033783248</title>\n<path fill=\"none\" stroke=\"#000000\" d=\"M159.6804,-765.2615C160.8385,-755.7077 162.638,-740.8615 164.0978,-728.8183\"/>\n<polygon fill=\"#000000\" stroke=\"#000000\" points=\"167.5859,-729.127 165.3147,-718.7785 160.6368,-728.2846 167.5859,-729.127\"/>\n</g>\n<!-- 139627033784144 -->\n<g id=\"node24\" class=\"node\">\n<title>139627033784144</title>\n<polygon fill=\"#d3d3d3\" stroke=\"#000000\" points=\"115,-850.5 14,-850.5 14,-831.5 115,-831.5 115,-850.5\"/>\n<text text-anchor=\"middle\" x=\"64.5\" y=\"-838.5\" font-family=\"monospace\" font-size=\"10.00\" fill=\"#000000\">AccumulateGrad</text>\n</g>\n<!-- 139627033784144&#45;&gt;139627033781008 -->\n<g id=\"edge22\" class=\"edge\">\n<title>139627033784144&#45;&gt;139627033781008</title>\n<path fill=\"none\" stroke=\"#000000\" d=\"M78.37,-831.2615C93.7308,-820.4762 118.6977,-802.9463 136.683,-790.3183\"/>\n<polygon fill=\"#000000\" stroke=\"#000000\" points=\"138.7058,-793.1747 144.8787,-784.5639 134.6833,-787.4458 138.7058,-793.1747\"/>\n</g>\n<!-- 139624726642592 -->\n<g id=\"node25\" class=\"node\">\n<title>139624726642592</title>\n<polygon fill=\"#add8e6\" stroke=\"#000000\" points=\"100,-922 29,-922 29,-892 100,-892 100,-922\"/>\n<text text-anchor=\"middle\" x=\"64.5\" y=\"-910\" font-family=\"monospace\" font-size=\"10.00\" fill=\"#000000\">enc1.bias</text>\n<text text-anchor=\"middle\" x=\"64.5\" y=\"-899\" font-family=\"monospace\" font-size=\"10.00\" fill=\"#000000\"> (512)</text>\n</g>\n<!-- 139624726642592&#45;&gt;139627033784144 -->\n<g id=\"edge23\" class=\"edge\">\n<title>139624726642592&#45;&gt;139627033784144</title>\n<path fill=\"none\" stroke=\"#000000\" d=\"M64.5,-891.6924C64.5,-882.5067 64.5,-870.7245 64.5,-860.8312\"/>\n<polygon fill=\"#000000\" stroke=\"#000000\" points=\"68.0001,-860.703 64.5,-850.7031 61.0001,-860.7031 68.0001,-860.703\"/>\n</g>\n<!-- 139627033781840 -->\n<g id=\"node26\" class=\"node\">\n<title>139627033781840</title>\n<polygon fill=\"#d3d3d3\" stroke=\"#000000\" points=\"204,-850.5 133,-850.5 133,-831.5 204,-831.5 204,-850.5\"/>\n<text text-anchor=\"middle\" x=\"168.5\" y=\"-838.5\" font-family=\"monospace\" font-size=\"10.00\" fill=\"#000000\">TBackward</text>\n</g>\n<!-- 139627033781840&#45;&gt;139627033781008 -->\n<g id=\"edge24\" class=\"edge\">\n<title>139627033781840&#45;&gt;139627033781008</title>\n<path fill=\"none\" stroke=\"#000000\" d=\"M167.0245,-831.2615C165.5769,-821.7077 163.3275,-806.8615 161.5028,-794.8183\"/>\n<polygon fill=\"#000000\" stroke=\"#000000\" points=\"164.9402,-794.1413 159.9816,-784.7785 158.0192,-795.19 164.9402,-794.1413\"/>\n</g>\n<!-- 139627033780368 -->\n<g id=\"node27\" class=\"node\">\n<title>139627033780368</title>\n<polygon fill=\"#d3d3d3\" stroke=\"#000000\" points=\"219,-916.5 118,-916.5 118,-897.5 219,-897.5 219,-916.5\"/>\n<text text-anchor=\"middle\" x=\"168.5\" y=\"-904.5\" font-family=\"monospace\" font-size=\"10.00\" fill=\"#000000\">AccumulateGrad</text>\n</g>\n<!-- 139627033780368&#45;&gt;139627033781840 -->\n<g id=\"edge25\" class=\"edge\">\n<title>139627033780368&#45;&gt;139627033781840</title>\n<path fill=\"none\" stroke=\"#000000\" d=\"M168.5,-897.2615C168.5,-887.7077 168.5,-872.8615 168.5,-860.8183\"/>\n<polygon fill=\"#000000\" stroke=\"#000000\" points=\"172.0001,-860.7784 168.5,-850.7785 165.0001,-860.7785 172.0001,-860.7784\"/>\n</g>\n<!-- 139624726641632 -->\n<g id=\"node28\" class=\"node\">\n<title>139624726641632</title>\n<polygon fill=\"#add8e6\" stroke=\"#000000\" points=\"213,-988 124,-988 124,-958 213,-958 213,-988\"/>\n<text text-anchor=\"middle\" x=\"168.5\" y=\"-976\" font-family=\"monospace\" font-size=\"10.00\" fill=\"#000000\">enc1.weight</text>\n<text text-anchor=\"middle\" x=\"168.5\" y=\"-965\" font-family=\"monospace\" font-size=\"10.00\" fill=\"#000000\"> (512, 3072)</text>\n</g>\n<!-- 139624726641632&#45;&gt;139627033780368 -->\n<g id=\"edge26\" class=\"edge\">\n<title>139624726641632&#45;&gt;139627033780368</title>\n<path fill=\"none\" stroke=\"#000000\" d=\"M168.5,-957.6924C168.5,-948.5067 168.5,-936.7245 168.5,-926.8312\"/>\n<polygon fill=\"#000000\" stroke=\"#000000\" points=\"172.0001,-926.703 168.5,-916.7031 165.0001,-926.7031 172.0001,-926.703\"/>\n</g>\n<!-- 139627033782800 -->\n<g id=\"node29\" class=\"node\">\n<title>139627033782800</title>\n<polygon fill=\"#d3d3d3\" stroke=\"#000000\" points=\"303,-718.5 232,-718.5 232,-699.5 303,-699.5 303,-718.5\"/>\n<text text-anchor=\"middle\" x=\"267.5\" y=\"-706.5\" font-family=\"monospace\" font-size=\"10.00\" fill=\"#000000\">TBackward</text>\n</g>\n<!-- 139627033782800&#45;&gt;139627033781264 -->\n<g id=\"edge27\" class=\"edge\">\n<title>139627033782800&#45;&gt;139627033781264</title>\n<path fill=\"none\" stroke=\"#000000\" d=\"M255.5482,-699.2615C242.5524,-688.6723 221.5773,-671.5815 206.1509,-659.0119\"/>\n<polygon fill=\"#000000\" stroke=\"#000000\" points=\"208.2008,-656.1673 198.2375,-652.5639 203.779,-661.594 208.2008,-656.1673\"/>\n</g>\n<!-- 139627033781328 -->\n<g id=\"node30\" class=\"node\">\n<title>139627033781328</title>\n<polygon fill=\"#d3d3d3\" stroke=\"#000000\" points=\"325,-784.5 224,-784.5 224,-765.5 325,-765.5 325,-784.5\"/>\n<text text-anchor=\"middle\" x=\"274.5\" y=\"-772.5\" font-family=\"monospace\" font-size=\"10.00\" fill=\"#000000\">AccumulateGrad</text>\n</g>\n<!-- 139627033781328&#45;&gt;139627033782800 -->\n<g id=\"edge28\" class=\"edge\">\n<title>139627033781328&#45;&gt;139627033782800</title>\n<path fill=\"none\" stroke=\"#000000\" d=\"M273.4671,-765.2615C272.4538,-755.7077 270.8793,-740.8615 269.6019,-728.8183\"/>\n<polygon fill=\"#000000\" stroke=\"#000000\" points=\"273.0724,-728.3535 268.5371,-718.7785 266.1114,-729.0919 273.0724,-728.3535\"/>\n</g>\n<!-- 139623733049696 -->\n<g id=\"node31\" class=\"node\">\n<title>139623733049696</title>\n<polygon fill=\"#add8e6\" stroke=\"#000000\" points=\"316,-856 233,-856 233,-826 316,-826 316,-856\"/>\n<text text-anchor=\"middle\" x=\"274.5\" y=\"-844\" font-family=\"monospace\" font-size=\"10.00\" fill=\"#000000\">enc2.weight</text>\n<text text-anchor=\"middle\" x=\"274.5\" y=\"-833\" font-family=\"monospace\" font-size=\"10.00\" fill=\"#000000\"> (512, 512)</text>\n</g>\n<!-- 139623733049696&#45;&gt;139627033781328 -->\n<g id=\"edge29\" class=\"edge\">\n<title>139623733049696&#45;&gt;139627033781328</title>\n<path fill=\"none\" stroke=\"#000000\" d=\"M274.5,-825.6924C274.5,-816.5067 274.5,-804.7245 274.5,-794.8312\"/>\n<polygon fill=\"#000000\" stroke=\"#000000\" points=\"278.0001,-794.703 274.5,-784.7031 271.0001,-794.7031 278.0001,-794.703\"/>\n</g>\n<!-- 139627033784208 -->\n<g id=\"node32\" class=\"node\">\n<title>139627033784208</title>\n<polygon fill=\"#d3d3d3\" stroke=\"#000000\" points=\"331,-586.5 260,-586.5 260,-567.5 331,-567.5 331,-586.5\"/>\n<text text-anchor=\"middle\" x=\"295.5\" y=\"-574.5\" font-family=\"monospace\" font-size=\"10.00\" fill=\"#000000\">TBackward</text>\n</g>\n<!-- 139627033784208&#45;&gt;139627033781712 -->\n<g id=\"edge30\" class=\"edge\">\n<title>139627033784208&#45;&gt;139627033781712</title>\n<path fill=\"none\" stroke=\"#000000\" d=\"M283.5482,-567.2615C270.5524,-556.6723 249.5773,-539.5815 234.1509,-527.0119\"/>\n<polygon fill=\"#000000\" stroke=\"#000000\" points=\"236.2008,-524.1673 226.2375,-520.5639 231.779,-529.594 236.2008,-524.1673\"/>\n</g>\n<!-- 139627033781072 -->\n<g id=\"node33\" class=\"node\">\n<title>139627033781072</title>\n<polygon fill=\"#d3d3d3\" stroke=\"#000000\" points=\"393,-652.5 292,-652.5 292,-633.5 393,-633.5 393,-652.5\"/>\n<text text-anchor=\"middle\" x=\"342.5\" y=\"-640.5\" font-family=\"monospace\" font-size=\"10.00\" fill=\"#000000\">AccumulateGrad</text>\n</g>\n<!-- 139627033781072&#45;&gt;139627033784208 -->\n<g id=\"edge31\" class=\"edge\">\n<title>139627033781072&#45;&gt;139627033784208</title>\n<path fill=\"none\" stroke=\"#000000\" d=\"M335.565,-633.2615C328.4144,-623.2203 317.1007,-607.3329 308.3167,-594.998\"/>\n<polygon fill=\"#000000\" stroke=\"#000000\" points=\"311.1152,-592.8939 302.4635,-586.7785 305.4132,-596.9544 311.1152,-592.8939\"/>\n</g>\n<!-- 139623733051056 -->\n<g id=\"node34\" class=\"node\">\n<title>139623733051056</title>\n<polygon fill=\"#add8e6\" stroke=\"#000000\" points=\"404,-724 321,-724 321,-694 404,-694 404,-724\"/>\n<text text-anchor=\"middle\" x=\"362.5\" y=\"-712\" font-family=\"monospace\" font-size=\"10.00\" fill=\"#000000\">enc3.weight</text>\n<text text-anchor=\"middle\" x=\"362.5\" y=\"-701\" font-family=\"monospace\" font-size=\"10.00\" fill=\"#000000\"> (256, 512)</text>\n</g>\n<!-- 139623733051056&#45;&gt;139627033781072 -->\n<g id=\"edge32\" class=\"edge\">\n<title>139623733051056&#45;&gt;139627033781072</title>\n<path fill=\"none\" stroke=\"#000000\" d=\"M357.8613,-693.6924C355.0479,-684.408 351.4305,-672.4708 348.4129,-662.5127\"/>\n<polygon fill=\"#000000\" stroke=\"#000000\" points=\"351.6901,-661.2583 345.4403,-652.7031 344.9909,-663.2884 351.6901,-661.2583\"/>\n</g>\n<!-- 139627033783568 -->\n<g id=\"node35\" class=\"node\">\n<title>139627033783568</title>\n<polygon fill=\"#d3d3d3\" stroke=\"#000000\" points=\"359,-454.5 288,-454.5 288,-435.5 359,-435.5 359,-454.5\"/>\n<text text-anchor=\"middle\" x=\"323.5\" y=\"-442.5\" font-family=\"monospace\" font-size=\"10.00\" fill=\"#000000\">TBackward</text>\n</g>\n<!-- 139627033783568&#45;&gt;139627033783696 -->\n<g id=\"edge33\" class=\"edge\">\n<title>139627033783568&#45;&gt;139627033783696</title>\n<path fill=\"none\" stroke=\"#000000\" d=\"M311.5482,-435.2615C298.5524,-424.6723 277.5773,-407.5815 262.1509,-395.0119\"/>\n<polygon fill=\"#000000\" stroke=\"#000000\" points=\"264.2008,-392.1673 254.2375,-388.5639 259.779,-397.594 264.2008,-392.1673\"/>\n</g>\n<!-- 139627033781584 -->\n<g id=\"node36\" class=\"node\">\n<title>139627033781584</title>\n<polygon fill=\"#d3d3d3\" stroke=\"#000000\" points=\"421,-520.5 320,-520.5 320,-501.5 421,-501.5 421,-520.5\"/>\n<text text-anchor=\"middle\" x=\"370.5\" y=\"-508.5\" font-family=\"monospace\" font-size=\"10.00\" fill=\"#000000\">AccumulateGrad</text>\n</g>\n<!-- 139627033781584&#45;&gt;139627033783568 -->\n<g id=\"edge34\" class=\"edge\">\n<title>139627033781584&#45;&gt;139627033783568</title>\n<path fill=\"none\" stroke=\"#000000\" d=\"M363.565,-501.2615C356.4144,-491.2203 345.1007,-475.3329 336.3167,-462.998\"/>\n<polygon fill=\"#000000\" stroke=\"#000000\" points=\"339.1152,-460.8939 330.4635,-454.7785 333.4132,-464.9544 339.1152,-460.8939\"/>\n</g>\n<!-- 139624722996672 -->\n<g id=\"node37\" class=\"node\">\n<title>139624722996672</title>\n<polygon fill=\"#add8e6\" stroke=\"#000000\" points=\"432,-592 349,-592 349,-562 432,-562 432,-592\"/>\n<text text-anchor=\"middle\" x=\"390.5\" y=\"-580\" font-family=\"monospace\" font-size=\"10.00\" fill=\"#000000\">dec1.weight</text>\n<text text-anchor=\"middle\" x=\"390.5\" y=\"-569\" font-family=\"monospace\" font-size=\"10.00\" fill=\"#000000\"> (512, 256)</text>\n</g>\n<!-- 139624722996672&#45;&gt;139627033781584 -->\n<g id=\"edge35\" class=\"edge\">\n<title>139624722996672&#45;&gt;139627033781584</title>\n<path fill=\"none\" stroke=\"#000000\" d=\"M385.8613,-561.6924C383.0479,-552.408 379.4305,-540.4708 376.4129,-530.5127\"/>\n<polygon fill=\"#000000\" stroke=\"#000000\" points=\"379.6901,-529.2583 373.4403,-520.7031 372.9909,-531.2884 379.6901,-529.2583\"/>\n</g>\n<!-- 139627033782672 -->\n<g id=\"node38\" class=\"node\">\n<title>139627033782672</title>\n<polygon fill=\"#d3d3d3\" stroke=\"#000000\" points=\"387,-322.5 316,-322.5 316,-303.5 387,-303.5 387,-322.5\"/>\n<text text-anchor=\"middle\" x=\"351.5\" y=\"-310.5\" font-family=\"monospace\" font-size=\"10.00\" fill=\"#000000\">TBackward</text>\n</g>\n<!-- 139627033782672&#45;&gt;139627033783184 -->\n<g id=\"edge36\" class=\"edge\">\n<title>139627033782672&#45;&gt;139627033783184</title>\n<path fill=\"none\" stroke=\"#000000\" d=\"M339.6957,-303.2615C326.8604,-292.6723 306.1442,-275.5815 290.9083,-263.0119\"/>\n<polygon fill=\"#000000\" stroke=\"#000000\" points=\"293.0337,-260.228 283.0926,-256.5639 288.579,-265.6276 293.0337,-260.228\"/>\n</g>\n<!-- 139627033782480 -->\n<g id=\"node39\" class=\"node\">\n<title>139627033782480</title>\n<polygon fill=\"#d3d3d3\" stroke=\"#000000\" points=\"449,-388.5 348,-388.5 348,-369.5 449,-369.5 449,-388.5\"/>\n<text text-anchor=\"middle\" x=\"398.5\" y=\"-376.5\" font-family=\"monospace\" font-size=\"10.00\" fill=\"#000000\">AccumulateGrad</text>\n</g>\n<!-- 139627033782480&#45;&gt;139627033782672 -->\n<g id=\"edge37\" class=\"edge\">\n<title>139627033782480&#45;&gt;139627033782672</title>\n<path fill=\"none\" stroke=\"#000000\" d=\"M391.565,-369.2615C384.4144,-359.2203 373.1007,-343.3329 364.3167,-330.998\"/>\n<polygon fill=\"#000000\" stroke=\"#000000\" points=\"367.1152,-328.8939 358.4635,-322.7785 361.4132,-332.9544 367.1152,-328.8939\"/>\n</g>\n<!-- 139623732768592 -->\n<g id=\"node40\" class=\"node\">\n<title>139623732768592</title>\n<polygon fill=\"#add8e6\" stroke=\"#000000\" points=\"460,-460 377,-460 377,-430 460,-430 460,-460\"/>\n<text text-anchor=\"middle\" x=\"418.5\" y=\"-448\" font-family=\"monospace\" font-size=\"10.00\" fill=\"#000000\">dec2.weight</text>\n<text text-anchor=\"middle\" x=\"418.5\" y=\"-437\" font-family=\"monospace\" font-size=\"10.00\" fill=\"#000000\"> (512, 512)</text>\n</g>\n<!-- 139623732768592&#45;&gt;139627033782480 -->\n<g id=\"edge38\" class=\"edge\">\n<title>139623732768592&#45;&gt;139627033782480</title>\n<path fill=\"none\" stroke=\"#000000\" d=\"M413.8613,-429.6924C411.0479,-420.408 407.4305,-408.4708 404.4129,-398.5127\"/>\n<polygon fill=\"#000000\" stroke=\"#000000\" points=\"407.6901,-397.2583 401.4403,-388.7031 400.9909,-399.2884 407.6901,-397.2583\"/>\n</g>\n<!-- 139627033782352 -->\n<g id=\"node41\" class=\"node\">\n<title>139627033782352</title>\n<polygon fill=\"#d3d3d3\" stroke=\"#000000\" points=\"440,-196 369,-196 369,-177 440,-177 440,-196\"/>\n<text text-anchor=\"middle\" x=\"404.5\" y=\"-184\" font-family=\"monospace\" font-size=\"10.00\" fill=\"#000000\">TBackward</text>\n</g>\n<!-- 139627033782352&#45;&gt;139627033782928 -->\n<g id=\"edge39\" class=\"edge\">\n<title>139627033782352&#45;&gt;139627033782928</title>\n<path fill=\"none\" stroke=\"#000000\" d=\"M382.7267,-176.9197C362.8631,-168.1798 333.2785,-155.1625 310.8668,-145.3014\"/>\n<polygon fill=\"#000000\" stroke=\"#000000\" points=\"312.006,-141.9789 301.4432,-141.155 309.1868,-148.3861 312.006,-141.9789\"/>\n</g>\n<!-- 139627033782288 -->\n<g id=\"node42\" class=\"node\">\n<title>139627033782288</title>\n<polygon fill=\"#d3d3d3\" stroke=\"#000000\" points=\"479,-256.5 378,-256.5 378,-237.5 479,-237.5 479,-256.5\"/>\n<text text-anchor=\"middle\" x=\"428.5\" y=\"-244.5\" font-family=\"monospace\" font-size=\"10.00\" fill=\"#000000\">AccumulateGrad</text>\n</g>\n<!-- 139627033782288&#45;&gt;139627033782352 -->\n<g id=\"edge40\" class=\"edge\">\n<title>139627033782288&#45;&gt;139627033782352</title>\n<path fill=\"none\" stroke=\"#000000\" d=\"M424.644,-237.2796C421.3049,-228.8623 416.3728,-216.4295 412.2248,-205.973\"/>\n<polygon fill=\"#000000\" stroke=\"#000000\" points=\"415.367,-204.402 408.4262,-196.3972 408.8603,-206.9832 415.367,-204.402\"/>\n</g>\n<!-- 139623733034352 -->\n<g id=\"node43\" class=\"node\">\n<title>139623733034352</title>\n<polygon fill=\"#add8e6\" stroke=\"#000000\" points=\"494,-328 405,-328 405,-298 494,-298 494,-328\"/>\n<text text-anchor=\"middle\" x=\"449.5\" y=\"-316\" font-family=\"monospace\" font-size=\"10.00\" fill=\"#000000\">dec3.weight</text>\n<text text-anchor=\"middle\" x=\"449.5\" y=\"-305\" font-family=\"monospace\" font-size=\"10.00\" fill=\"#000000\"> (3072, 512)</text>\n</g>\n<!-- 139623733034352&#45;&gt;139627033782288 -->\n<g id=\"edge41\" class=\"edge\">\n<title>139623733034352&#45;&gt;139627033782288</title>\n<path fill=\"none\" stroke=\"#000000\" d=\"M444.6294,-297.6924C441.6753,-288.408 437.8771,-276.4708 434.7086,-266.5127\"/>\n<polygon fill=\"#000000\" stroke=\"#000000\" points=\"437.9547,-265.1711 431.5873,-256.7031 431.2842,-267.2936 437.9547,-265.1711\"/>\n</g>\n</g>\n</svg>\n"
          },
          "metadata": {},
          "execution_count": 30
        }
      ]
    },
    {
      "cell_type": "code",
      "metadata": {
        "id": "WrHpf5WE5aJ7"
      },
      "source": [
        "def kl_divergence(target_mean, activations):\n",
        "  target_means = torch.full((activations.size()[1],), target_mean)\n",
        "  activations = torch.clamp(activations, 0, 1)  # clip values\n",
        "  mean_activations = torch.mean(activations, 0)\n",
        "  kl = target_means * torch.log(target_means / mean_activations)\n",
        "  kl += (1 - target_means) * torch.log((1 - target_means) / (1 - mean_activations))\n",
        "  return torch.sum(kl).item()\n"
      ],
      "execution_count": null,
      "outputs": []
    },
    {
      "cell_type": "code",
      "metadata": {
        "id": "qqfbxY-VN9s8"
      },
      "source": [
        "def l1(activations):\n",
        "  return sum([torch.linalg.matrix_norm(activ) for activ in activations])\n"
      ],
      "execution_count": null,
      "outputs": []
    },
    {
      "cell_type": "code",
      "metadata": {
        "id": "pwmcCk7ihCNd"
      },
      "source": [
        "def customLoss(outputs, targets):\n",
        "  batch_size = outputs.size()[0]\n",
        "  targets = nn.Flatten(1)(targets) # unroll \n",
        "  return ((outputs - targets) ** 2).sum() / batch_size"
      ],
      "execution_count": null,
      "outputs": []
    },
    {
      "cell_type": "code",
      "metadata": {
        "id": "z2O1_gPIdCsy"
      },
      "source": [
        "# training loop\n",
        "def train(trainloader, model, loss_fn, optimizer, sparse, verbose):\n",
        "  size = len(trainloader.dataset)\n",
        "  num_batches = len(trainloader)\n",
        "  train_loss, count = 0.0, 0\n",
        "  model.train()\n",
        "\n",
        "  for batch, (X, _) in enumerate(trainloader):\n",
        "    X = X.to(device)\n",
        "    # forward pass\n",
        "    outputs = model(X)\n",
        "    loss = loss_fn(outputs[-1], X)\n",
        "    if sparse:\n",
        "      sparse_loss = l1(outputs)\n",
        "      loss +=  sparse * sparse_loss\n",
        "    train_loss += loss\n",
        "\n",
        "    # backward pass\n",
        "    optimizer.zero_grad()\n",
        "    loss.backward()\n",
        "    optimizer.step()\n",
        "\n",
        "    if verbose: \n",
        "      if batch % 200 == 0:\n",
        "        loss, current = loss.item(), batch * len(X)\n",
        "        print(f\"Loss: {loss:>7f} [{current:>5d}/{size:>5d}]\")\n",
        "  \n",
        "  return train_loss / num_batches\n",
        "\n",
        "\n",
        "# val loop\n",
        "def val(valloader, model, loss_fn, verbose):\n",
        "  size = len(valloader.dataset)\n",
        "  num_batches = len(valloader)\n",
        "  val_loss = 0.0\n",
        "  model.eval()\n",
        "\n",
        "  with torch.no_grad():\n",
        "    for (X, _) in valloader:\n",
        "      X = X.to(device)\n",
        "      outputs = model(X)\n",
        "      loss = loss_fn(outputs[-1], X)\n",
        "      val_loss += loss.item()\n",
        "  \n",
        "  val_loss /= num_batches\n",
        "\n",
        "  if verbose:\n",
        "    print(f\"Avg Val Loss: {val_loss:>8f}\\n\")\n",
        "\n",
        "  return val_loss"
      ],
      "execution_count": null,
      "outputs": []
    },
    {
      "cell_type": "code",
      "metadata": {
        "id": "uX54CB-cdStC"
      },
      "source": [
        "# train and validate model\n",
        "def fit(model, optimizer, trainloader, valloader, \n",
        "                epochs=10, sparse=None, verbose=False):\n",
        "  \n",
        "  metrics = {'train_loss': [],\n",
        "            'val_loss': [],\n",
        "            }\n",
        "  loss_fn = customLoss\n",
        "\n",
        "  for epoch in range(epochs):\n",
        "    if verbose:\n",
        "      print(f\"Epoch {epoch+1}\\n{('-'*30)}\")\n",
        "      \n",
        "    train_loss = train(trainloader, model, loss_fn, optimizer, sparse, verbose)\n",
        "    val_loss = val(valloader, model, loss_fn, verbose)\n",
        "\n",
        "    metrics['train_loss'].append(train_loss)\n",
        "    metrics['val_loss'].append(val_loss)\n",
        "\n",
        "    if not verbose:\n",
        "      print(f\"\\rEpoch {epoch+1}: Train Loss {train_loss:0>5.3f} | \"\n",
        "            f\"Val Loss {val_loss:0>5.3f}\", end=''\n",
        "           )\n",
        "    \n",
        "  print(\"\\nDone!\")\n",
        "\n",
        "  return metrics"
      ],
      "execution_count": null,
      "outputs": []
    },
    {
      "cell_type": "code",
      "metadata": {
        "colab": {
          "base_uri": "https://localhost:8080/"
        },
        "id": "0gwCPZpN_uwN",
        "outputId": "9c1543fb-31ff-4c4d-8b64-6dc8c63cfcc0"
      },
      "source": [
        "epochs = 30\n",
        "model = SparseVae(256).to(device)\n",
        "optimizer = torch.optim.SGD(model.parameters(),\n",
        "                            lr=0.0005,\n",
        "                            weight_decay=0,\n",
        "                            momentum=0.9\n",
        ")\n",
        "metrics = fit(model, \n",
        "              optimizer,\n",
        "              train_dataloader,\n",
        "              val_dataloader,\n",
        "              epochs,\n",
        "              sparse=None,\n",
        "              verbose=False\n",
        "              )"
      ],
      "execution_count": null,
      "outputs": [
        {
          "output_type": "stream",
          "name": "stdout",
          "text": [
            "Epoch 30: Train Loss 41.046 | Val Loss 41.127\n",
            "Done!\n"
          ]
        }
      ]
    },
    {
      "cell_type": "code",
      "metadata": {
        "colab": {
          "base_uri": "https://localhost:8080/",
          "height": 282
        },
        "id": "kkcTmLILCPiI",
        "outputId": "8b39cb2d-de8f-4611-fea7-041d7ad21af6"
      },
      "source": [
        "plt.plot(metrics['train_loss'])\n",
        "plt.plot(metrics['val_loss'])"
      ],
      "execution_count": null,
      "outputs": [
        {
          "output_type": "execute_result",
          "data": {
            "text/plain": [
              "[<matplotlib.lines.Line2D at 0x7efcaef54c90>]"
            ]
          },
          "metadata": {},
          "execution_count": 38
        },
        {
          "output_type": "display_data",
          "data": {
            "image/png": "[encoded data removed]",
            "text/plain": [
              "<Figure size 432x288 with 1 Axes>"
            ]
          },
          "metadata": {
            "needs_background": "light"
          }
        }
      ]
    },
    {
      "cell_type": "code",
      "metadata": {
        "colab": {
          "base_uri": "https://localhost:8080/"
        },
        "id": "XujY0edfdU04",
        "outputId": "b5d6c432-bf87-4664-c5ab-878f37931478"
      },
      "source": [
        "epochs = 30\n",
        "sparse_model = SparseVae(256).to(device)\n",
        "optimizer = torch.optim.SGD(sparse_model.parameters(),\n",
        "                            lr=0.0005,\n",
        "                            weight_decay=0,\n",
        "                            momentum=0.9\n",
        ")\n",
        "sparse_metrics = fit(sparse_model, \n",
        "              optimizer,\n",
        "              train_dataloader,\n",
        "              val_dataloader,\n",
        "              epochs,\n",
        "              sparse=0.01,\n",
        "              verbose=True\n",
        "              )"
      ],
      "execution_count": null,
      "outputs": [
        {
          "output_type": "stream",
          "name": "stdout",
          "text": [
            "Epoch 1\n",
            "------------------------------\n",
            "Loss: 199.398499 [    0/50000]\n",
            "Loss: 183.076767 [12800/50000]\n",
            "Loss: 181.594910 [25600/50000]\n",
            "Loss: 187.865829 [38400/50000]\n",
            "Avg Val Loss: 189.789036\n",
            "\n",
            "Epoch 2\n",
            "------------------------------\n",
            "Loss: 198.818649 [    0/50000]\n",
            "Loss: 187.524567 [12800/50000]\n",
            "Loss: 174.548767 [25600/50000]\n",
            "Loss: 198.394928 [38400/50000]\n",
            "Avg Val Loss: 176.143544\n",
            "\n",
            "Epoch 3\n",
            "------------------------------\n",
            "Loss: 162.380722 [    0/50000]\n",
            "Loss: 169.723083 [12800/50000]\n",
            "Loss: 156.927139 [25600/50000]\n",
            "Loss: 143.879562 [38400/50000]\n",
            "Avg Val Loss: 125.715251\n",
            "\n",
            "Epoch 4\n",
            "------------------------------\n",
            "Loss: 125.248215 [    0/50000]\n",
            "Loss: 109.718315 [12800/50000]\n",
            "Loss: 115.726753 [25600/50000]\n",
            "Loss: 133.537735 [38400/50000]\n",
            "Avg Val Loss: 117.383177\n",
            "\n",
            "Epoch 5\n",
            "------------------------------\n",
            "Loss: 126.021194 [    0/50000]\n",
            "Loss: 102.542702 [12800/50000]\n",
            "Loss: 126.871841 [25600/50000]\n",
            "Loss: 123.648407 [38400/50000]\n",
            "Avg Val Loss: 112.586921\n",
            "\n",
            "Epoch 6\n",
            "------------------------------\n",
            "Loss: 117.256729 [    0/50000]\n",
            "Loss: 108.420998 [12800/50000]\n",
            "Loss: 100.028175 [25600/50000]\n",
            "Loss: 100.309242 [38400/50000]\n",
            "Avg Val Loss: 102.459513\n",
            "\n",
            "Epoch 7\n",
            "------------------------------\n",
            "Loss: 100.578941 [    0/50000]\n",
            "Loss: 119.787994 [12800/50000]\n",
            "Loss: 108.189850 [25600/50000]\n",
            "Loss: 113.521400 [38400/50000]\n",
            "Avg Val Loss: 100.749268\n",
            "\n",
            "Epoch 8\n",
            "------------------------------\n",
            "Loss: 109.211525 [    0/50000]\n",
            "Loss: 106.510406 [12800/50000]\n",
            "Loss: 106.104797 [25600/50000]\n",
            "Loss: 103.185326 [38400/50000]\n",
            "Avg Val Loss: 100.465864\n",
            "\n",
            "Epoch 9\n",
            "------------------------------\n",
            "Loss: 102.118515 [    0/50000]\n",
            "Loss: 100.024879 [12800/50000]\n",
            "Loss: 94.383850 [25600/50000]\n",
            "Loss: 106.016304 [38400/50000]\n",
            "Avg Val Loss: 99.998219\n",
            "\n",
            "Epoch 10\n",
            "------------------------------\n",
            "Loss: 112.189690 [    0/50000]\n",
            "Loss: 102.073784 [12800/50000]\n",
            "Loss: 103.487869 [25600/50000]\n",
            "Loss: 98.981247 [38400/50000]\n",
            "Avg Val Loss: 94.839819\n",
            "\n",
            "Epoch 11\n",
            "------------------------------\n",
            "Loss: 100.634346 [    0/50000]\n",
            "Loss: 97.443855 [12800/50000]\n",
            "Loss: 101.284714 [25600/50000]\n",
            "Loss: 98.742744 [38400/50000]\n",
            "Avg Val Loss: 93.332540\n",
            "\n",
            "Epoch 12\n",
            "------------------------------\n",
            "Loss: 95.516113 [    0/50000]\n",
            "Loss: 99.639343 [12800/50000]\n",
            "Loss: 91.189407 [25600/50000]\n",
            "Loss: 95.327629 [38400/50000]\n",
            "Avg Val Loss: 91.288166\n",
            "\n",
            "Epoch 13\n",
            "------------------------------\n",
            "Loss: 99.310623 [    0/50000]\n",
            "Loss: 93.938194 [12800/50000]\n",
            "Loss: 87.722488 [25600/50000]\n",
            "Loss: 96.192299 [38400/50000]\n",
            "Avg Val Loss: 88.468148\n",
            "\n",
            "Epoch 14\n",
            "------------------------------\n",
            "Loss: 97.737236 [    0/50000]\n",
            "Loss: 95.358650 [12800/50000]\n",
            "Loss: 85.559319 [25600/50000]\n",
            "Loss: 83.652504 [38400/50000]\n",
            "Avg Val Loss: 82.403416\n",
            "\n",
            "Epoch 15\n",
            "------------------------------\n",
            "Loss: 84.871376 [    0/50000]\n",
            "Loss: 87.160042 [12800/50000]\n",
            "Loss: 77.647217 [25600/50000]\n",
            "Loss: 84.555832 [38400/50000]\n",
            "Avg Val Loss: 82.152088\n",
            "\n",
            "Epoch 16\n",
            "------------------------------\n",
            "Loss: 92.709480 [    0/50000]\n",
            "Loss: 81.242653 [12800/50000]\n",
            "Loss: 92.918739 [25600/50000]\n",
            "Loss: 76.974915 [38400/50000]\n",
            "Avg Val Loss: 81.848256\n",
            "\n",
            "Epoch 17\n",
            "------------------------------\n",
            "Loss: 84.672318 [    0/50000]\n",
            "Loss: 82.936119 [12800/50000]\n",
            "Loss: 89.981758 [25600/50000]\n",
            "Loss: 87.255165 [38400/50000]\n",
            "Avg Val Loss: 79.618316\n",
            "\n",
            "Epoch 18\n",
            "------------------------------\n",
            "Loss: 82.443581 [    0/50000]\n",
            "Loss: 84.920792 [12800/50000]\n",
            "Loss: 89.189415 [25600/50000]\n",
            "Loss: 87.811569 [38400/50000]\n",
            "Avg Val Loss: 73.060446\n",
            "\n",
            "Epoch 19\n",
            "------------------------------\n",
            "Loss: 85.684196 [    0/50000]\n",
            "Loss: 78.717659 [12800/50000]\n",
            "Loss: 77.863914 [25600/50000]\n",
            "Loss: 80.683945 [38400/50000]\n",
            "Avg Val Loss: 72.772050\n",
            "\n",
            "Epoch 20\n",
            "------------------------------\n",
            "Loss: 75.131989 [    0/50000]\n",
            "Loss: 84.351524 [12800/50000]\n",
            "Loss: 74.650063 [25600/50000]\n",
            "Loss: 72.926926 [38400/50000]\n",
            "Avg Val Loss: 74.304080\n",
            "\n",
            "Epoch 21\n",
            "------------------------------\n",
            "Loss: 77.911003 [    0/50000]\n",
            "Loss: 72.629318 [12800/50000]\n",
            "Loss: 80.777336 [25600/50000]\n",
            "Loss: 85.356262 [38400/50000]\n",
            "Avg Val Loss: 72.163595\n",
            "\n",
            "Epoch 22\n",
            "------------------------------\n",
            "Loss: 78.671333 [    0/50000]\n",
            "Loss: 74.807388 [12800/50000]\n",
            "Loss: 73.386436 [25600/50000]\n",
            "Loss: 79.943459 [38400/50000]\n",
            "Avg Val Loss: 73.758666\n",
            "\n",
            "Epoch 23\n",
            "------------------------------\n",
            "Loss: 80.019371 [    0/50000]\n",
            "Loss: 71.079086 [12800/50000]\n",
            "Loss: 73.828888 [25600/50000]\n",
            "Loss: 78.838127 [38400/50000]\n",
            "Avg Val Loss: 72.728504\n",
            "\n",
            "Epoch 24\n",
            "------------------------------\n",
            "Loss: 67.623451 [    0/50000]\n",
            "Loss: 78.199181 [12800/50000]\n",
            "Loss: 69.604317 [25600/50000]\n",
            "Loss: 71.360649 [38400/50000]\n",
            "Avg Val Loss: 72.404081\n",
            "\n",
            "Epoch 25\n",
            "------------------------------\n",
            "Loss: 66.979355 [    0/50000]\n",
            "Loss: 74.983315 [12800/50000]\n",
            "Loss: 68.998940 [25600/50000]\n",
            "Loss: 74.162086 [38400/50000]\n",
            "Avg Val Loss: 72.275311\n",
            "\n",
            "Epoch 26\n",
            "------------------------------\n",
            "Loss: 76.785278 [    0/50000]\n",
            "Loss: 76.756989 [12800/50000]\n",
            "Loss: 83.049774 [25600/50000]\n",
            "Loss: 75.243492 [38400/50000]\n",
            "Avg Val Loss: 71.864500\n",
            "\n",
            "Epoch 27\n",
            "------------------------------\n",
            "Loss: 73.226974 [    0/50000]\n",
            "Loss: 82.513550 [12800/50000]\n",
            "Loss: 71.096657 [25600/50000]\n",
            "Loss: 73.324234 [38400/50000]\n",
            "Avg Val Loss: 71.627879\n",
            "\n",
            "Epoch 28\n",
            "------------------------------\n",
            "Loss: 80.911270 [    0/50000]\n",
            "Loss: 75.203835 [12800/50000]\n",
            "Loss: 73.861572 [25600/50000]\n",
            "Loss: 88.573769 [38400/50000]\n",
            "Avg Val Loss: 72.210276\n",
            "\n",
            "Epoch 29\n",
            "------------------------------\n",
            "Loss: 78.743797 [    0/50000]\n",
            "Loss: 83.664848 [12800/50000]\n",
            "Loss: 78.734665 [25600/50000]\n",
            "Loss: 64.931870 [38400/50000]\n",
            "Avg Val Loss: 68.827259\n",
            "\n",
            "Epoch 30\n",
            "------------------------------\n",
            "Loss: 74.042862 [    0/50000]\n",
            "Loss: 75.856934 [12800/50000]\n",
            "Loss: 68.217316 [25600/50000]\n",
            "Loss: 73.759819 [38400/50000]\n",
            "Avg Val Loss: 71.612050\n",
            "\n",
            "\n",
            "Done!\n"
          ]
        }
      ]
    },
    {
      "cell_type": "code",
      "metadata": {
        "colab": {
          "base_uri": "https://localhost:8080/",
          "height": 284
        },
        "id": "OISTGpHhEA8u",
        "outputId": "c49973ad-e7d1-4c76-d3fa-5c085006ad44"
      },
      "source": [
        "plt.plot(sparse_metrics['train_loss'])\n",
        "plt.plot(sparse_metrics['val_loss'])"
      ],
      "execution_count": null,
      "outputs": [
        {
          "output_type": "execute_result",
          "data": {
            "text/plain": [
              "[<matplotlib.lines.Line2D at 0x7efcae26d750>]"
            ]
          },
          "metadata": {},
          "execution_count": 48
        },
        {
          "output_type": "display_data",
          "data": {
            "image/png": "[encoded data removed]",
            "text/plain": [
              "<Figure size 432x288 with 1 Axes>"
            ]
          },
          "metadata": {
            "needs_background": "light"
          }
        }
      ]
    },
    {
      "cell_type": "code",
      "metadata": {
        "colab": {
          "base_uri": "https://localhost:8080/",
          "height": 530
        },
        "id": "t7K_u-gMG5k5",
        "outputId": "c32ef3ae-f4d4-4f51-f3fd-d68eb094d205"
      },
      "source": [
        "model_output(sparse_model, train_data)"
      ],
      "execution_count": null,
      "outputs": [
        {
          "output_type": "display_data",
          "data": {
            "image/png": "[encoded data removed]",
            "text/plain": [
              "<Figure size 432x288 with 1 Axes>"
            ]
          },
          "metadata": {
            "needs_background": "light"
          }
        },
        {
          "output_type": "display_data",
          "data": {
            "image/png": "[encoded data removed]",
            "text/plain": [
              "<Figure size 432x288 with 1 Axes>"
            ]
          },
          "metadata": {
            "needs_background": "light"
          }
        }
      ]
    },
    {
      "cell_type": "code",
      "metadata": {
        "colab": {
          "base_uri": "https://localhost:8080/"
        },
        "id": "8TPo2iQSBt6H",
        "outputId": "0734dad4-8943-4197-873e-5577666d5591"
      },
      "source": [
        "epochs = 30\n",
        "sparse_model = SparseVae(256).to(device)\n",
        "optimizer = torch.optim.SGD(sparse_model.parameters(),\n",
        "                            lr=0.0001,\n",
        "                            weight_decay=0,\n",
        "                            momentum=0.9\n",
        ")\n",
        "metrics = fit(sparse_model, \n",
        "              optimizer,\n",
        "              train_dataloader,\n",
        "              val_dataloader,\n",
        "              epochs,\n",
        "              sparse=0.01,\n",
        "              verbose=True\n",
        "              )"
      ],
      "execution_count": null,
      "outputs": [
        {
          "output_type": "stream",
          "name": "stdout",
          "text": [
            "Epoch 1\n",
            "------------------------------\n",
            "Loss: 836.505371 [    0/50000]\n",
            "Loss: 350.175720 [12800/50000]\n",
            "Loss: 353.072052 [25600/50000]\n",
            "Loss: 326.252411 [38400/50000]\n",
            "Avg Val Loss: 281.637838\n",
            "\n",
            "Epoch 2\n",
            "------------------------------\n",
            "Loss: 260.407196 [    0/50000]\n",
            "Loss: 262.357361 [12800/50000]\n",
            "Loss: 230.134720 [25600/50000]\n",
            "Loss: 225.333832 [38400/50000]\n",
            "Avg Val Loss: 212.526293\n",
            "\n",
            "Epoch 3\n",
            "------------------------------\n",
            "Loss: 226.881668 [    0/50000]\n",
            "Loss: 192.685242 [12800/50000]\n",
            "Loss: 188.326172 [25600/50000]\n",
            "Loss: 194.953430 [38400/50000]\n",
            "Avg Val Loss: 174.065403\n",
            "\n",
            "Epoch 4\n",
            "------------------------------\n",
            "Loss: 171.373154 [    0/50000]\n",
            "Loss: 158.056015 [12800/50000]\n",
            "Loss: 152.089706 [25600/50000]\n",
            "Loss: 148.883316 [38400/50000]\n",
            "Avg Val Loss: 145.053472\n",
            "\n",
            "Epoch 5\n",
            "------------------------------\n",
            "Loss: 147.372604 [    0/50000]\n",
            "Loss: 138.029694 [12800/50000]\n",
            "Loss: 128.505341 [25600/50000]\n",
            "Loss: 136.884369 [38400/50000]\n",
            "Avg Val Loss: 131.109422\n",
            "\n",
            "Epoch 6\n",
            "------------------------------\n",
            "Loss: 141.485992 [    0/50000]\n",
            "Loss: 132.607346 [12800/50000]\n",
            "Loss: 127.076218 [25600/50000]\n",
            "Loss: 127.452072 [38400/50000]\n",
            "Avg Val Loss: 121.415474\n",
            "\n",
            "Epoch 7\n",
            "------------------------------\n",
            "Loss: 120.303101 [    0/50000]\n",
            "Loss: 123.693169 [12800/50000]\n",
            "Loss: 122.661469 [25600/50000]\n",
            "Loss: 117.400848 [38400/50000]\n",
            "Avg Val Loss: 114.409234\n",
            "\n",
            "Epoch 8\n",
            "------------------------------\n",
            "Loss: 113.094810 [    0/50000]\n",
            "Loss: 126.920708 [12800/50000]\n",
            "Loss: 116.957321 [25600/50000]\n",
            "Loss: 111.590805 [38400/50000]\n",
            "Avg Val Loss: 108.706900\n",
            "\n",
            "Epoch 9\n",
            "------------------------------\n",
            "Loss: 116.328674 [    0/50000]\n",
            "Loss: 108.802681 [12800/50000]\n",
            "Loss: 112.436981 [25600/50000]\n",
            "Loss: 112.165840 [38400/50000]\n",
            "Avg Val Loss: 100.894826\n",
            "\n",
            "Epoch 10\n",
            "------------------------------\n",
            "Loss: 107.170311 [    0/50000]\n",
            "Loss: 103.496994 [12800/50000]\n",
            "Loss: 97.695671 [25600/50000]\n",
            "Loss: 98.600014 [38400/50000]\n",
            "Avg Val Loss: 96.058694\n",
            "\n",
            "Epoch 11\n",
            "------------------------------\n",
            "Loss: 92.880623 [    0/50000]\n",
            "Loss: 92.323143 [12800/50000]\n",
            "Loss: 90.085793 [25600/50000]\n",
            "Loss: 103.830444 [38400/50000]\n",
            "Avg Val Loss: 92.455017\n",
            "\n",
            "Epoch 12\n",
            "------------------------------\n",
            "Loss: 95.810768 [    0/50000]\n",
            "Loss: 92.078552 [12800/50000]\n",
            "Loss: 101.307114 [25600/50000]\n",
            "Loss: 94.481583 [38400/50000]\n",
            "Avg Val Loss: 89.095197\n",
            "\n",
            "Epoch 13\n",
            "------------------------------\n",
            "Loss: 93.265945 [    0/50000]\n",
            "Loss: 101.138741 [12800/50000]\n",
            "Loss: 95.579979 [25600/50000]\n",
            "Loss: 91.337051 [38400/50000]\n",
            "Avg Val Loss: 86.354410\n",
            "\n",
            "Epoch 14\n",
            "------------------------------\n",
            "Loss: 93.386032 [    0/50000]\n",
            "Loss: 88.780647 [12800/50000]\n",
            "Loss: 92.868347 [25600/50000]\n",
            "Loss: 90.530945 [38400/50000]\n",
            "Avg Val Loss: 83.771105\n",
            "\n",
            "Epoch 15\n",
            "------------------------------\n",
            "Loss: 82.475662 [    0/50000]\n",
            "Loss: 83.197830 [12800/50000]\n",
            "Loss: 84.301529 [25600/50000]\n",
            "Loss: 89.613380 [38400/50000]\n",
            "Avg Val Loss: 81.132669\n",
            "\n",
            "Epoch 16\n",
            "------------------------------\n",
            "Loss: 83.449600 [    0/50000]\n",
            "Loss: 86.811066 [12800/50000]\n",
            "Loss: 80.391502 [25600/50000]\n",
            "Loss: 84.772408 [38400/50000]\n",
            "Avg Val Loss: 80.972318\n",
            "\n",
            "Epoch 17\n",
            "------------------------------\n",
            "Loss: 80.796425 [    0/50000]\n",
            "Loss: 88.976982 [12800/50000]\n",
            "Loss: 84.173042 [25600/50000]\n",
            "Loss: 85.762695 [38400/50000]\n",
            "Avg Val Loss: 77.396531\n",
            "\n",
            "Epoch 18\n",
            "------------------------------\n",
            "Loss: 83.311989 [    0/50000]\n",
            "Loss: 81.019096 [12800/50000]\n",
            "Loss: 80.345940 [25600/50000]\n",
            "Loss: 79.052696 [38400/50000]\n",
            "Avg Val Loss: 75.991449\n",
            "\n",
            "Epoch 19\n",
            "------------------------------\n",
            "Loss: 78.403130 [    0/50000]\n",
            "Loss: 83.546761 [12800/50000]\n",
            "Loss: 79.230423 [25600/50000]\n",
            "Loss: 80.574478 [38400/50000]\n",
            "Avg Val Loss: 75.108511\n",
            "\n",
            "Epoch 20\n",
            "------------------------------\n",
            "Loss: 84.826202 [    0/50000]\n",
            "Loss: 78.851921 [12800/50000]\n",
            "Loss: 75.948090 [25600/50000]\n",
            "Loss: 84.781029 [38400/50000]\n",
            "Avg Val Loss: 74.528520\n",
            "\n",
            "Epoch 21\n",
            "------------------------------\n",
            "Loss: 82.187134 [    0/50000]\n",
            "Loss: 72.285667 [12800/50000]\n",
            "Loss: 79.724350 [25600/50000]\n",
            "Loss: 78.234367 [38400/50000]\n",
            "Avg Val Loss: 72.966162\n",
            "\n",
            "Epoch 22\n",
            "------------------------------\n",
            "Loss: 77.711296 [    0/50000]\n",
            "Loss: 75.113747 [12800/50000]\n",
            "Loss: 75.761047 [25600/50000]\n",
            "Loss: 85.570480 [38400/50000]\n",
            "Avg Val Loss: 70.998619\n",
            "\n",
            "Epoch 23\n",
            "------------------------------\n",
            "Loss: 69.455132 [    0/50000]\n",
            "Loss: 72.144730 [12800/50000]\n",
            "Loss: 81.262512 [25600/50000]\n",
            "Loss: 74.990166 [38400/50000]\n",
            "Avg Val Loss: 69.945984\n",
            "\n",
            "Epoch 24\n",
            "------------------------------\n",
            "Loss: 71.163223 [    0/50000]\n",
            "Loss: 73.938484 [12800/50000]\n",
            "Loss: 71.699165 [25600/50000]\n",
            "Loss: 78.523315 [38400/50000]\n",
            "Avg Val Loss: 68.846163\n",
            "\n",
            "Epoch 25\n",
            "------------------------------\n",
            "Loss: 72.809280 [    0/50000]\n",
            "Loss: 68.438698 [12800/50000]\n",
            "Loss: 70.338142 [25600/50000]\n",
            "Loss: 75.653442 [38400/50000]\n",
            "Avg Val Loss: 73.482780\n",
            "\n",
            "Epoch 26\n",
            "------------------------------\n",
            "Loss: 78.699150 [    0/50000]\n",
            "Loss: 74.093834 [12800/50000]\n",
            "Loss: 74.132751 [25600/50000]\n",
            "Loss: 78.085632 [38400/50000]\n",
            "Avg Val Loss: 68.359125\n",
            "\n",
            "Epoch 27\n",
            "------------------------------\n",
            "Loss: 71.523911 [    0/50000]\n",
            "Loss: 74.681412 [12800/50000]\n",
            "Loss: 76.921417 [25600/50000]\n",
            "Loss: 72.852661 [38400/50000]\n",
            "Avg Val Loss: 66.521921\n",
            "\n",
            "Epoch 28\n",
            "------------------------------\n",
            "Loss: 72.793434 [    0/50000]\n",
            "Loss: 66.570984 [12800/50000]\n",
            "Loss: 72.287582 [25600/50000]\n",
            "Loss: 66.267395 [38400/50000]\n",
            "Avg Val Loss: 65.822076\n",
            "\n",
            "Epoch 29\n",
            "------------------------------\n",
            "Loss: 72.745583 [    0/50000]\n",
            "Loss: 69.280220 [12800/50000]\n",
            "Loss: 68.019440 [25600/50000]\n",
            "Loss: 65.221611 [38400/50000]\n",
            "Avg Val Loss: 65.091867\n",
            "\n",
            "Epoch 30\n",
            "------------------------------\n",
            "Loss: 68.853256 [    0/50000]\n",
            "Loss: 67.035500 [12800/50000]\n",
            "Loss: 72.220047 [25600/50000]\n",
            "Loss: 66.795593 [38400/50000]\n",
            "Avg Val Loss: 64.595970\n",
            "\n",
            "\n",
            "Done!\n"
          ]
        }
      ]
    },
    {
      "cell_type": "code",
      "metadata": {
        "id": "QijxQj4vtzkO"
      },
      "source": [
        "def model_output(model, train_data):\n",
        "  classes = ('plane', 'car', 'bird', 'cat',\n",
        "           'deer', 'dog', 'frog', 'horse', \n",
        "           'ship', 'truck')\n",
        "  idx = np.random.choice(len(train_data))\n",
        "\n",
        "  x, label = train_data[idx]\n",
        "  plt.imshow(torch.moveaxis(x, 0, 2))\n",
        "  plt.title(classes[label])\n",
        "  plt.show()\n",
        "\n",
        "  # model prediction\n",
        "  outputs = model(x.unsqueeze(0).to(device))\n",
        "  output = torch.reshape(outputs[-1].to('cpu'), (3, 32, 32)).detach()\n",
        "  plt.imshow(torch.moveaxis(output, 0, 2))\n",
        "  plt.show()\n",
        "\n"
      ],
      "execution_count": null,
      "outputs": []
    },
    {
      "cell_type": "code",
      "metadata": {
        "colab": {
          "base_uri": "https://localhost:8080/",
          "height": 530
        },
        "id": "bTBSSfIUu2lJ",
        "outputId": "04a9bb7f-3c6c-4f29-84b9-0e56cae6e614"
      },
      "source": [
        "model_output(model, train_data)"
      ],
      "execution_count": null,
      "outputs": [
        {
          "output_type": "display_data",
          "data": {
            "image/png": "[encoded data removed]",
            "text/plain": [
              "<Figure size 432x288 with 1 Axes>"
            ]
          },
          "metadata": {
            "needs_background": "light"
          }
        },
        {
          "output_type": "display_data",
          "data": {
            "image/png": "[encoded data removed]",
            "text/plain": [
              "<Figure size 432x288 with 1 Axes>"
            ]
          },
          "metadata": {
            "needs_background": "light"
          }
        }
      ]
    },
    {
      "cell_type": "code",
      "metadata": {
        "colab": {
          "base_uri": "https://localhost:8080/",
          "height": 567
        },
        "id": "7iUt_t6svgSa",
        "outputId": "a042d25d-4420-424d-f331-23f95741dbda"
      },
      "source": [
        "model_output(model, test_data)"
      ],
      "execution_count": null,
      "outputs": [
        {
          "output_type": "display_data",
          "data": {
            "image/png": "[encoded data removed]",
            "text/plain": [
              "<Figure size 432x288 with 1 Axes>"
            ]
          },
          "metadata": {
            "needs_background": "light"
          }
        },
        {
          "output_type": "stream",
          "name": "stderr",
          "text": [
            "Clipping input data to the valid range for imshow with RGB data ([0..1] for floats or [0..255] for integers).\n"
          ]
        },
        {
          "output_type": "display_data",
          "data": {
            "image/png": "[encoded data removed]",
            "text/plain": [
              "<Figure size 432x288 with 1 Axes>"
            ]
          },
          "metadata": {
            "needs_background": "light"
          }
        }
      ]
    },
    {
      "cell_type": "code",
      "metadata": {
        "colab": {
          "base_uri": "https://localhost:8080/"
        },
        "id": "mi4j2UqKAXqt",
        "outputId": "c6f1f665-cbfe-45a2-cc09-63c8945ce1cb"
      },
      "source": [
        "epochs = 20\n",
        "dmodel = Vae(128).to(device)\n",
        "optimizer = torch.optim.SGD(dmodel.parameters(),\n",
        "                            lr=0.0001,\n",
        "                            weight_decay=0,\n",
        "                            momentum=0.9\n",
        ")\n",
        "dmetrics = train_model(dmodel, \n",
        "                              optimizer,\n",
        "                              train_dataloader,\n",
        "                              test_dataloader,\n",
        "                              epochs,\n",
        "                              verbose=False\n",
        "                              )"
      ],
      "execution_count": null,
      "outputs": [
        {
          "output_type": "stream",
          "name": "stdout",
          "text": [
            "Epoch 20: Train Loss 38.369 | Test Loss 38.100\n",
            "Done!\n"
          ]
        }
      ]
    },
    {
      "cell_type": "code",
      "metadata": {
        "colab": {
          "base_uri": "https://localhost:8080/"
        },
        "id": "ybVb6YW3Bbxo",
        "outputId": "cd62cc7c-9e4f-48d1-c7bc-4fa73c6fc88c"
      },
      "source": [
        "ddmetrics = train_model(dmodel,\n",
        "                        optimizer,\n",
        "                        train_dataloader,\n",
        "                        test_dataloader,\n",
        "                        epochs,\n",
        "                        verbose=False)"
      ],
      "execution_count": null,
      "outputs": [
        {
          "output_type": "stream",
          "name": "stdout",
          "text": [
            "Epoch 20: Train Loss 30.756 | Test Loss 30.718\n",
            "Done!\n"
          ]
        }
      ]
    },
    {
      "cell_type": "code",
      "metadata": {
        "colab": {
          "base_uri": "https://localhost:8080/",
          "height": 282
        },
        "id": "y59nkShYCFNj",
        "outputId": "fdaea550-e8a7-488f-88ef-36964179bc41"
      },
      "source": [
        "plt.plot(dmetrics['train_loss'] + ddmetrics['train_loss'])\n",
        "plt.plot(dmetrics['test_loss'] + ddmetrics['test_loss'])"
      ],
      "execution_count": null,
      "outputs": [
        {
          "output_type": "execute_result",
          "data": {
            "text/plain": [
              "[<matplotlib.lines.Line2D at 0x7fd0005a7610>]"
            ]
          },
          "metadata": {},
          "execution_count": 32
        },
        {
          "output_type": "display_data",
          "data": {
            "image/png": "[encoded data removed]",
            "text/plain": [
              "<Figure size 432x288 with 1 Axes>"
            ]
          },
          "metadata": {
            "needs_background": "light"
          }
        }
      ]
    },
    {
      "cell_type": "code",
      "metadata": {
        "colab": {
          "base_uri": "https://localhost:8080/",
          "height": 530
        },
        "id": "WURasBV4Cc9B",
        "outputId": "fc13e975-493c-4f31-e4a3-ff1ec12461c2"
      },
      "source": [
        "model_output(dmodel, train_data)"
      ],
      "execution_count": null,
      "outputs": [
        {
          "output_type": "display_data",
          "data": {
            "image/png": "[encoded data removed]",
            "text/plain": [
              "<Figure size 432x288 with 1 Axes>"
            ]
          },
          "metadata": {
            "needs_background": "light"
          }
        },
        {
          "output_type": "display_data",
          "data": {
            "image/png": "[encoded data removed]",
            "text/plain": [
              "<Figure size 432x288 with 1 Axes>"
            ]
          },
          "metadata": {
            "needs_background": "light"
          }
        }
      ]
    },
    {
      "cell_type": "code",
      "metadata": {
        "colab": {
          "base_uri": "https://localhost:8080/"
        },
        "id": "zGxSN-Rz_YlN",
        "outputId": "115c00e5-f121-43cc-97e9-d5da3325202c"
      },
      "source": [
        "epochs = 50\n",
        "bmodel = Vae(256).to(device)\n",
        "optimizer = torch.optim.SGD(bmodel.parameters(),\n",
        "                            lr=0.0001,\n",
        "                            weight_decay=0,\n",
        "                            momentum=0.9\n",
        ")\n",
        "bmetrics = train_model(bmodel, \n",
        "                              optimizer,\n",
        "                              train_dataloader,\n",
        "                              test_dataloader,\n",
        "                              epochs,\n",
        "                              verbose=False\n",
        "                              )"
      ],
      "execution_count": null,
      "outputs": [
        {
          "output_type": "stream",
          "name": "stdout",
          "text": [
            "Epoch 50: Train Loss 27.457 | Test Loss 27.373\n",
            "Done!\n"
          ]
        }
      ]
    },
    {
      "cell_type": "code",
      "metadata": {
        "colab": {
          "base_uri": "https://localhost:8080/",
          "height": 282
        },
        "id": "buFnQkGO_w9x",
        "outputId": "bfa007fe-86bb-4d0c-da7a-ea0daa6c91d6"
      },
      "source": [
        "plt.plot(bmetrics['train_loss'])\n",
        "plt.plot(bmetrics['test_loss'])"
      ],
      "execution_count": null,
      "outputs": [
        {
          "output_type": "execute_result",
          "data": {
            "text/plain": [
              "[<matplotlib.lines.Line2D at 0x7fcf99a56a50>]"
            ]
          },
          "metadata": {},
          "execution_count": 48
        },
        {
          "output_type": "display_data",
          "data": {
            "image/png": "[encoded data removed]",
            "text/plain": [
              "<Figure size 432x288 with 1 Axes>"
            ]
          },
          "metadata": {
            "needs_background": "light"
          }
        }
      ]
    },
    {
      "cell_type": "code",
      "metadata": {
        "colab": {
          "base_uri": "https://localhost:8080/",
          "height": 567
        },
        "id": "AKAvIlEMDxxV",
        "outputId": "d1d66d2e-eca2-4b06-f628-1ce9855704c6"
      },
      "source": [
        "model_output(bmodel, train_data)"
      ],
      "execution_count": null,
      "outputs": [
        {
          "output_type": "display_data",
          "data": {
            "image/png": "[encoded data removed]",
            "text/plain": [
              "<Figure size 432x288 with 1 Axes>"
            ]
          },
          "metadata": {
            "needs_background": "light"
          }
        },
        {
          "output_type": "stream",
          "name": "stderr",
          "text": [
            "Clipping input data to the valid range for imshow with RGB data ([0..1] for floats or [0..255] for integers).\n"
          ]
        },
        {
          "output_type": "display_data",
          "data": {
            "image/png": "[encoded data removed]",
            "text/plain": [
              "<Figure size 432x288 with 1 Axes>"
            ]
          },
          "metadata": {
            "needs_background": "light"
          }
        }
      ]
    },
    {
      "cell_type": "code",
      "metadata": {
        "id": "9PMWPe70EtsF"
      },
      "source": [
        ""
      ],
      "execution_count": null,
      "outputs": []
    }
  ]
}